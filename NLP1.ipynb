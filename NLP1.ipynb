{
  "cells": [
    {
      "cell_type": "markdown",
      "id": "bc97d6da",
      "metadata": {
        "id": "bc97d6da"
      },
      "source": [
        "## CS 6120: Natural Language Processing - Prof. Ahmad Uzair\n",
        "\n",
        "### Assignment 1: Naive Bayes\n",
        "### Total Points: 100 points\n",
        "\n",
        "You will be dealing with movie review data that includes both positive and negative reviews in this assignment. You will use Sentiment Analysis to assess if a given review is positive or negative using the provided dataset.\n",
        "\n",
        "Therefore, we will make use of Naive Bayes algorithm to perform sentiment analysis on the movie review dataset.\n",
        "\n",
        "## Importing the Libraries"
      ]
    },
    {
      "cell_type": "code",
      "execution_count": 1,
      "id": "a03450ac",
      "metadata": {
        "id": "a03450ac"
      },
      "outputs": [],
      "source": [
        "import numpy as np\n",
        "import math\n",
        "import pandas as pd\n",
        "import re\n",
        "import nltk\n",
        "from nltk.corpus import stopwords\n",
        "from nltk.stem import PorterStemmer\n",
        "from nltk.stem import WordNetLemmatizer\n",
        "from nltk.tokenize import word_tokenize\n",
        "import warnings\n",
        "import seaborn as sns\n",
        "import matplotlib.pyplot as plt\n",
        "warnings.filterwarnings(\"ignore\")"
      ]
    },
    {
      "cell_type": "code",
      "source": [
        "import nltk\n",
        "nltk.download('stopwords')\n",
        "nltk.download('punkt')\n",
        "nltk.download('wordnet')\n",
        "import string\n",
        "from bs4 import BeautifulSoup"
      ],
      "metadata": {
        "colab": {
          "base_uri": "https://localhost:8080/"
        },
        "id": "vgCmLs-Z3CT9",
        "outputId": "a57c7b8f-1730-4f83-994d-f52b701147d6"
      },
      "id": "vgCmLs-Z3CT9",
      "execution_count": 2,
      "outputs": [
        {
          "output_type": "stream",
          "name": "stdout",
          "text": [
            "[nltk_data] Downloading package stopwords to /root/nltk_data...\n",
            "[nltk_data]   Package stopwords is already up-to-date!\n",
            "[nltk_data] Downloading package punkt to /root/nltk_data...\n",
            "[nltk_data]   Package punkt is already up-to-date!\n",
            "[nltk_data] Downloading package wordnet to /root/nltk_data...\n",
            "[nltk_data]   Package wordnet is already up-to-date!\n"
          ]
        }
      ]
    },
    {
      "cell_type": "markdown",
      "id": "fc584cc2",
      "metadata": {
        "id": "fc584cc2"
      },
      "source": [
        "## Reading the data\n",
        "\n",
        "When reading the data, ensure that the '.csv' file is in the same location where your jupyter notebook is used. This way the files are organized and easy to read using the pandas library. "
      ]
    },
    {
      "cell_type": "code",
      "execution_count": 3,
      "id": "3c9ffbf5",
      "metadata": {
        "id": "3c9ffbf5"
      },
      "outputs": [],
      "source": [
        "## Reading the data and removing columns that are not important. \n",
        "df = pd.read_csv('movie_reviews.csv', sep = ',', encoding = 'latin-1')"
      ]
    },
    {
      "cell_type": "code",
      "execution_count": 4,
      "id": "f7fa8ac0",
      "metadata": {
        "colab": {
          "base_uri": "https://localhost:8080/",
          "height": 206
        },
        "id": "f7fa8ac0",
        "outputId": "a3b8ee6c-efcd-4df6-dcb8-fce025090d21"
      },
      "outputs": [
        {
          "output_type": "execute_result",
          "data": {
            "text/plain": [
              "                                              review sentiment\n",
              "0  One of the other reviewers has mentioned that ...  positive\n",
              "1  A wonderful little production. <br /><br />The...  positive\n",
              "2  I thought this was a wonderful way to spend ti...  positive\n",
              "3  Petter Mattei's \"Love in the Time of Money\" is...  positive\n",
              "4  Probably my all-time favorite movie, a story o...  positive"
            ],
            "text/html": [
              "\n",
              "  <div id=\"df-9ff343a7-7e1b-4e65-b89e-ac903c8a3d36\">\n",
              "    <div class=\"colab-df-container\">\n",
              "      <div>\n",
              "<style scoped>\n",
              "    .dataframe tbody tr th:only-of-type {\n",
              "        vertical-align: middle;\n",
              "    }\n",
              "\n",
              "    .dataframe tbody tr th {\n",
              "        vertical-align: top;\n",
              "    }\n",
              "\n",
              "    .dataframe thead th {\n",
              "        text-align: right;\n",
              "    }\n",
              "</style>\n",
              "<table border=\"1\" class=\"dataframe\">\n",
              "  <thead>\n",
              "    <tr style=\"text-align: right;\">\n",
              "      <th></th>\n",
              "      <th>review</th>\n",
              "      <th>sentiment</th>\n",
              "    </tr>\n",
              "  </thead>\n",
              "  <tbody>\n",
              "    <tr>\n",
              "      <th>0</th>\n",
              "      <td>One of the other reviewers has mentioned that ...</td>\n",
              "      <td>positive</td>\n",
              "    </tr>\n",
              "    <tr>\n",
              "      <th>1</th>\n",
              "      <td>A wonderful little production. &lt;br /&gt;&lt;br /&gt;The...</td>\n",
              "      <td>positive</td>\n",
              "    </tr>\n",
              "    <tr>\n",
              "      <th>2</th>\n",
              "      <td>I thought this was a wonderful way to spend ti...</td>\n",
              "      <td>positive</td>\n",
              "    </tr>\n",
              "    <tr>\n",
              "      <th>3</th>\n",
              "      <td>Petter Mattei's \"Love in the Time of Money\" is...</td>\n",
              "      <td>positive</td>\n",
              "    </tr>\n",
              "    <tr>\n",
              "      <th>4</th>\n",
              "      <td>Probably my all-time favorite movie, a story o...</td>\n",
              "      <td>positive</td>\n",
              "    </tr>\n",
              "  </tbody>\n",
              "</table>\n",
              "</div>\n",
              "      <button class=\"colab-df-convert\" onclick=\"convertToInteractive('df-9ff343a7-7e1b-4e65-b89e-ac903c8a3d36')\"\n",
              "              title=\"Convert this dataframe to an interactive table.\"\n",
              "              style=\"display:none;\">\n",
              "        \n",
              "  <svg xmlns=\"http://www.w3.org/2000/svg\" height=\"24px\"viewBox=\"0 0 24 24\"\n",
              "       width=\"24px\">\n",
              "    <path d=\"M0 0h24v24H0V0z\" fill=\"none\"/>\n",
              "    <path d=\"M18.56 5.44l.94 2.06.94-2.06 2.06-.94-2.06-.94-.94-2.06-.94 2.06-2.06.94zm-11 1L8.5 8.5l.94-2.06 2.06-.94-2.06-.94L8.5 2.5l-.94 2.06-2.06.94zm10 10l.94 2.06.94-2.06 2.06-.94-2.06-.94-.94-2.06-.94 2.06-2.06.94z\"/><path d=\"M17.41 7.96l-1.37-1.37c-.4-.4-.92-.59-1.43-.59-.52 0-1.04.2-1.43.59L10.3 9.45l-7.72 7.72c-.78.78-.78 2.05 0 2.83L4 21.41c.39.39.9.59 1.41.59.51 0 1.02-.2 1.41-.59l7.78-7.78 2.81-2.81c.8-.78.8-2.07 0-2.86zM5.41 20L4 18.59l7.72-7.72 1.47 1.35L5.41 20z\"/>\n",
              "  </svg>\n",
              "      </button>\n",
              "      \n",
              "  <style>\n",
              "    .colab-df-container {\n",
              "      display:flex;\n",
              "      flex-wrap:wrap;\n",
              "      gap: 12px;\n",
              "    }\n",
              "\n",
              "    .colab-df-convert {\n",
              "      background-color: #E8F0FE;\n",
              "      border: none;\n",
              "      border-radius: 50%;\n",
              "      cursor: pointer;\n",
              "      display: none;\n",
              "      fill: #1967D2;\n",
              "      height: 32px;\n",
              "      padding: 0 0 0 0;\n",
              "      width: 32px;\n",
              "    }\n",
              "\n",
              "    .colab-df-convert:hover {\n",
              "      background-color: #E2EBFA;\n",
              "      box-shadow: 0px 1px 2px rgba(60, 64, 67, 0.3), 0px 1px 3px 1px rgba(60, 64, 67, 0.15);\n",
              "      fill: #174EA6;\n",
              "    }\n",
              "\n",
              "    [theme=dark] .colab-df-convert {\n",
              "      background-color: #3B4455;\n",
              "      fill: #D2E3FC;\n",
              "    }\n",
              "\n",
              "    [theme=dark] .colab-df-convert:hover {\n",
              "      background-color: #434B5C;\n",
              "      box-shadow: 0px 1px 3px 1px rgba(0, 0, 0, 0.15);\n",
              "      filter: drop-shadow(0px 1px 2px rgba(0, 0, 0, 0.3));\n",
              "      fill: #FFFFFF;\n",
              "    }\n",
              "  </style>\n",
              "\n",
              "      <script>\n",
              "        const buttonEl =\n",
              "          document.querySelector('#df-9ff343a7-7e1b-4e65-b89e-ac903c8a3d36 button.colab-df-convert');\n",
              "        buttonEl.style.display =\n",
              "          google.colab.kernel.accessAllowed ? 'block' : 'none';\n",
              "\n",
              "        async function convertToInteractive(key) {\n",
              "          const element = document.querySelector('#df-9ff343a7-7e1b-4e65-b89e-ac903c8a3d36');\n",
              "          const dataTable =\n",
              "            await google.colab.kernel.invokeFunction('convertToInteractive',\n",
              "                                                     [key], {});\n",
              "          if (!dataTable) return;\n",
              "\n",
              "          const docLinkHtml = 'Like what you see? Visit the ' +\n",
              "            '<a target=\"_blank\" href=https://colab.research.google.com/notebooks/data_table.ipynb>data table notebook</a>'\n",
              "            + ' to learn more about interactive tables.';\n",
              "          element.innerHTML = '';\n",
              "          dataTable['output_type'] = 'display_data';\n",
              "          await google.colab.output.renderOutput(dataTable, element);\n",
              "          const docLink = document.createElement('div');\n",
              "          docLink.innerHTML = docLinkHtml;\n",
              "          element.appendChild(docLink);\n",
              "        }\n",
              "      </script>\n",
              "    </div>\n",
              "  </div>\n",
              "  "
            ]
          },
          "metadata": {},
          "execution_count": 4
        }
      ],
      "source": [
        "df.head()  # print head of data frame with help of head function"
      ]
    },
    {
      "cell_type": "markdown",
      "id": "1749da04",
      "metadata": {
        "id": "1749da04"
      },
      "source": [
        "## Count plot of the output categories: positive or negative\n",
        "\n",
        "Feel free to take a look at the output and whether the classes are balanced or imbalanced. "
      ]
    },
    {
      "cell_type": "code",
      "execution_count": 5,
      "id": "c152e8a4",
      "metadata": {
        "colab": {
          "base_uri": "https://localhost:8080/",
          "height": 297
        },
        "id": "c152e8a4",
        "outputId": "70fce10b-a74e-4c12-e908-ba72c6824297"
      },
      "outputs": [
        {
          "output_type": "display_data",
          "data": {
            "text/plain": [
              "<Figure size 432x288 with 1 Axes>"
            ],
            "image/png": "[encoded data removed]"
          },
          "metadata": {
            "needs_background": "light"
          }
        }
      ],
      "source": [
        "plt.figure(figsize = None)\n",
        "sns.countplot(df['sentiment'])\n",
        "plt.title(\"Positive Vs. Negative reviews count\", fontsize = 15)\n",
        "plt.show()\n"
      ]
    },
    {
      "cell_type": "markdown",
      "id": "9b8549f2",
      "metadata": {
        "id": "9b8549f2"
      },
      "source": [
        "## Upsampling the minority class: (5 points)\n",
        "\n",
        "It is known that Naive bayes is not robust to class imbalance. It could be seen above that the data is little imbalanced. Therefore, class balancing can be done before giving it to the Naive Bayes model for prediction. \n",
        "\n",
        "Feel free to use 'resample' library from sklearn. "
      ]
    },
    {
      "cell_type": "code",
      "source": [
        "## hint: use resample from sklearn.utils\n",
        "from sklearn.utils import resample\n",
        "\n",
        "df_majority = df[df['sentiment']=='positive']\n",
        "df_minority = df[df['sentiment']=='negative']\n",
        "\n",
        "negative_upsample = resample(df_minority, replace = True, \n",
        "                        n_samples = df_majority.shape[0],\n",
        "                        random_state = 101)\n",
        "\n",
        "df_upsampled = pd.concat([df_majority, negative_upsample])  # concat two data frames i,e majority class data set and upsampled minority class data set\n",
        "df_upsampled = df_upsampled.sample(frac = 1)"
      ],
      "metadata": {
        "id": "yHJTAqrW7XMN"
      },
      "id": "yHJTAqrW7XMN",
      "execution_count": 6,
      "outputs": []
    },
    {
      "cell_type": "code",
      "execution_count": 7,
      "id": "6a9329bb",
      "metadata": {
        "id": "6a9329bb",
        "colab": {
          "base_uri": "https://localhost:8080/"
        },
        "outputId": "e1d66d28-f792-44d2-db62-7d4d01a40313"
      },
      "outputs": [
        {
          "output_type": "execute_result",
          "data": {
            "text/plain": [
              "(12474, 2)"
            ]
          },
          "metadata": {},
          "execution_count": 7
        }
      ],
      "source": [
        "## Just to ensure that upsampling was done successfully, take a look at the shape of the data in \n",
        "## this cell. \n",
        "\n",
        "# print the shape of data set with the help of shape function having \"negative\" as class label\n",
        "df_upsampled[df['sentiment']=='negative'].shape"
      ]
    },
    {
      "cell_type": "markdown",
      "id": "6f8bf6e7",
      "metadata": {
        "id": "6f8bf6e7"
      },
      "source": [
        "### Expected Output : \n",
        "(12474, 2)"
      ]
    },
    {
      "cell_type": "code",
      "execution_count": 8,
      "id": "bdea8155",
      "metadata": {
        "colab": {
          "base_uri": "https://localhost:8080/"
        },
        "id": "bdea8155",
        "outputId": "cb94c6fe-15ec-4233-afc4-e189cd7ba385"
      },
      "outputs": [
        {
          "output_type": "execute_result",
          "data": {
            "text/plain": [
              "(12474, 2)"
            ]
          },
          "metadata": {},
          "execution_count": 8
        }
      ],
      "source": [
        "## Ensure that the same number of data points are present for both 'positive' and 'negative' data\n",
        "\n",
        "# print the shape of data set with the help of shape function having \"positive\" as class label\n",
        "df_upsampled[df['sentiment']=='positive'].shape"
      ]
    },
    {
      "cell_type": "markdown",
      "id": "626f01d5",
      "metadata": {
        "id": "626f01d5"
      },
      "source": [
        "### Expected Output : \n",
        "(12474, 2)"
      ]
    },
    {
      "cell_type": "code",
      "source": [
        "## In this cell, we are going to be dividing the data into train and test points\n",
        "## Ensure that you store the upsampled data in a variable called 'df_upsampled' \n",
        "## so that the below operations are performed successfully\n",
        "\n",
        "\n",
        "## Considering 10000 positive and 10000 negative data points\n",
        "negative_data_points_train = df_upsampled[df_upsampled['sentiment']=='negative'].iloc[:10000]\n",
        "positive_data_points_train = df_upsampled[df_upsampled['sentiment']=='positive'].iloc[:10000]\n",
        "\n",
        "## Considering the remaining data points for test\n",
        "negative_data_points_test = df_upsampled[df_upsampled['sentiment']=='negative'].iloc[10000:]\n",
        "positive_data_points_test = df_upsampled[df_upsampled['sentiment']=='positive'].iloc[10000:]\n",
        "\n",
        "## Concatenate the training positive and negative reviews\n",
        "X_train = pd.concat([negative_data_points_train['review'], positive_data_points_train['review']])\n",
        "## Concatenating the training positive and negative outputs\n",
        "y_train = pd.concat([negative_data_points_train['sentiment'], positive_data_points_train['sentiment']])\n",
        "\n",
        "## Concatenating the test positive and negative reviews\n",
        "X_test = pd.concat([negative_data_points_test['review'], positive_data_points_test['review']])\n",
        "## Concatenating the test positive and negative outputs\n",
        "y_test = pd.concat([negative_data_points_test['sentiment'], positive_data_points_test['sentiment']])\n"
      ],
      "metadata": {
        "id": "NoW5z6SzAeP8"
      },
      "execution_count": 9,
      "outputs": [],
      "id": "NoW5z6SzAeP8"
    },
    {
      "cell_type": "code",
      "execution_count": 10,
      "id": "6428047d",
      "metadata": {
        "colab": {
          "base_uri": "https://localhost:8080/"
        },
        "id": "6428047d",
        "outputId": "5f2e2722-103b-4b64-a7cc-3b5d1dbe0add"
      },
      "outputs": [
        {
          "output_type": "execute_result",
          "data": {
            "text/plain": [
              "negative    10000\n",
              "positive    10000\n",
              "Name: sentiment, dtype: int64"
            ]
          },
          "metadata": {},
          "execution_count": 10
        }
      ],
      "source": [
        "## Take a look at the total number of classes and their count using '.value_counts()' for y_train and y_test.\n",
        "## Ensure that there are equal number of positive and negative reviews. \n",
        "y_train.value_counts()"
      ]
    },
    {
      "cell_type": "markdown",
      "id": "7dfe6517",
      "metadata": {
        "id": "7dfe6517"
      },
      "source": [
        "### Expected Output:\n",
        "negative    10000<br>\n",
        "positive    10000<br>\n",
        "Name: sentiment, dtype: int64"
      ]
    },
    {
      "cell_type": "code",
      "execution_count": 11,
      "id": "2beae1d6",
      "metadata": {
        "colab": {
          "base_uri": "https://localhost:8080/"
        },
        "id": "2beae1d6",
        "outputId": "cfd0789b-ae49-4dcf-ec61-ca8fa7095e29"
      },
      "outputs": [
        {
          "output_type": "execute_result",
          "data": {
            "text/plain": [
              "negative    2474\n",
              "positive    2474\n",
              "Name: sentiment, dtype: int64"
            ]
          },
          "metadata": {},
          "execution_count": 11
        }
      ],
      "source": [
        "y_test.value_counts()"
      ]
    },
    {
      "cell_type": "markdown",
      "id": "9163f897",
      "metadata": {
        "id": "9163f897"
      },
      "source": [
        "### Expected Output : \n",
        "negative    2474<br>\n",
        "positive    2474<br>\n",
        "Name: sentiment, dtype: int64"
      ]
    },
    {
      "cell_type": "code",
      "source": [
        "lemmatizer = WordNetLemmatizer()\n",
        "stopwords_english = stopwords.words('english')"
      ],
      "metadata": {
        "id": "Olry3HUVlvg2"
      },
      "id": "Olry3HUVlvg2",
      "execution_count": 12,
      "outputs": []
    },
    {
      "cell_type": "markdown",
      "id": "6501699b",
      "metadata": {
        "id": "6501699b"
      },
      "source": [
        "## Q1. Pre-process the reviews: (10 points)\n",
        "\n",
        "We know that a review contains links, punctuation, stopwords and many other words that don't give a lot of meaning for the Naive Bayes model for prediction. \n",
        "\n",
        "In the cell below, one must implement text-preprocessing and remove links, punctuations and stopwords. It is also important to lowercase the letters so that 'Admire' and 'admire' are not treated as different words. \n",
        "\n",
        "In addition to this, perform stemming operation so that similar words are reduced. To know more about stemming, feel free to take a look at this link.\n",
        "\n",
        "https://nlp.stanford.edu/IR-book/html/htmledition/stemming-and-lemmatization-1.html"
      ]
    },
    {
      "cell_type": "code",
      "source": [
        "# TASK CELL\n",
        "\n",
        "def clean_review(review):\n",
        "    '''\n",
        "    Input:\n",
        "        review: a string containing a review.\n",
        "    Output:\n",
        "        review_cleaned: a processed review. \n",
        "\n",
        "    '''\n",
        "    review = review.lower()\n",
        "    review = \" \".join([word for word in review.split() if word not in stopwords_english])\n",
        "    review=re.sub(r'http\\S+', '', review, flags=re.MULTILINE)\n",
        "    review = re.sub(r'[^\\w\\s]', '', review)\n",
        "    review=word_tokenize(review)\n",
        "    review_cleaned = [lemmatizer.lemmatize(word) for word in review]\n",
        "    review_cleaned=\" \".join([word for word in review_cleaned])\n",
        "\n",
        "\n",
        "    return review_cleaned"
      ],
      "metadata": {
        "id": "CirLN9-ddQ1r"
      },
      "id": "CirLN9-ddQ1r",
      "execution_count": 13,
      "outputs": []
    },
    {
      "cell_type": "code",
      "source": [
        ""
      ],
      "metadata": {
        "id": "2D396oe6kmY-"
      },
      "id": "2D396oe6kmY-",
      "execution_count": 13,
      "outputs": []
    },
    {
      "cell_type": "markdown",
      "id": "a7632fe5",
      "metadata": {
        "id": "a7632fe5"
      },
      "source": [
        "## Q2. Implement a find_occurrence function (5 points):\n",
        "\n",
        "In this function, we find the total occurrence of a word giving information such as label, word and frequency dictionary.\n",
        "\n",
        "Note that this function is used later in the code when we are going to be predicting the output using Naive Bayes. "
      ]
    },
    {
      "cell_type": "code",
      "execution_count": 13,
      "id": "eb282b81",
      "metadata": {
        "id": "eb282b81"
      },
      "outputs": [],
      "source": [
        ""
      ]
    },
    {
      "cell_type": "code",
      "source": [
        "# TASK CELL\n",
        "def find_occurrence(frequency, word, label):\n",
        "    '''\n",
        "    Params:\n",
        "        frequency: a dictionary with the frequency of each pair (or tuple)\n",
        "        word: the word to look up\n",
        "        label: the label corresponding to the word\n",
        "    Return:\n",
        "        n: the number of times the word with its corresponding label appears.\n",
        "    '''\n",
        "\n",
        "    #\n",
        "    n=0\n",
        "    if (word,label) in frequency.keys():\n",
        "      return frequency[(word,label)]\n",
        "  \n",
        "    return n\n"
      ],
      "metadata": {
        "id": "2NwzFk2hN2pU"
      },
      "id": "2NwzFk2hN2pU",
      "execution_count": 14,
      "outputs": []
    },
    {
      "cell_type": "markdown",
      "id": "29a2249d",
      "metadata": {
        "id": "29a2249d"
      },
      "source": [
        "### Converting output to numerical format:\n",
        "\n",
        "We have outputs as 'positive' or 'negative'. In the cell below, we convert it to a numerical format. "
      ]
    },
    {
      "cell_type": "code",
      "execution_count": 15,
      "id": "bcdc2b2c",
      "metadata": {
        "id": "bcdc2b2c"
      },
      "outputs": [],
      "source": [
        "## With the use of mapping function, we replace\n",
        "## the label in the form of string to an integer. \n",
        "\n",
        "output_map = {'positive': 0, 'negative': 1}\n",
        "y_train = y_train.map(output_map)\n",
        "y_test = y_test.map(output_map)"
      ]
    },
    {
      "cell_type": "code",
      "execution_count": 16,
      "id": "3dde0bbd",
      "metadata": {
        "colab": {
          "base_uri": "https://localhost:8080/"
        },
        "id": "3dde0bbd",
        "outputId": "5cf0ddfc-6cb8-43a0-c843-94302cc9e69e"
      },
      "outputs": [
        {
          "output_type": "execute_result",
          "data": {
            "text/plain": [
              "1    10000\n",
              "0    10000\n",
              "Name: sentiment, dtype: int64"
            ]
          },
          "metadata": {},
          "execution_count": 16
        }
      ],
      "source": [
        "## Ensuring that there are equal number of classes on the training data. \n",
        "y_train.value_counts()"
      ]
    },
    {
      "cell_type": "code",
      "execution_count": 17,
      "id": "f2959b85",
      "metadata": {
        "colab": {
          "base_uri": "https://localhost:8080/",
          "height": 140
        },
        "id": "f2959b85",
        "outputId": "0414e4b7-3586-418e-b9fd-b7426a033d5a"
      },
      "outputs": [
        {
          "output_type": "execute_result",
          "data": {
            "text/plain": [
              "'If there\\'s one thing I want to distinguish myself from all the other great reviewers here, it\\'s that I am the Queen of Finding Strange Movies in Thrift and Dollar Stores. That said, you can\\'t possibly imagine how happy I was when I found this one. <br /><br />I can even remember that Saturday morning when *every* station simulcast it, so you were stuck if you wanted to watch something else (then again, I guess that was the idea). As a kid, I didn\\'t know if I liked the way all the different characters were stuck together (there are some crossovers that just do *not* work). But I guess the special had it\\'s intended effect. Don\\'t do drugs because you will have nightmares about the Muppets.<br /><br />Now, if you watch this as an adult, on the other hand, you will be treated to the *strangest* anti-drug movie this side of \"Reefer Madness\". I think I\\'ll just leave it at that before I get into trouble.'"
            ],
            "application/vnd.google.colaboratory.intrinsic+json": {
              "type": "string"
            }
          },
          "metadata": {},
          "execution_count": 17
        }
      ],
      "source": [
        "## Choosing a random review and taking a look at it.\n",
        "X_train.iloc[0]"
      ]
    },
    {
      "cell_type": "markdown",
      "id": "ed5e43c9",
      "metadata": {
        "id": "ed5e43c9"
      },
      "source": [
        "From the above cell output, it could be seen that there are a lot of words that don't add a lot of meaning to the text. \n",
        "\n",
        "Therefore, those words would be removed. It also reduces the computation time. \n",
        "\n",
        "Therefore, it is a good practice we are following."
      ]
    },
    {
      "cell_type": "code",
      "execution_count": 18,
      "id": "ad3937ea",
      "metadata": {
        "colab": {
          "base_uri": "https://localhost:8080/"
        },
        "id": "ad3937ea",
        "outputId": "de3e1f33-63ad-4049-965b-1a9d189d55e2"
      },
      "outputs": [
        {
          "output_type": "stream",
          "name": "stdout",
          "text": [
            "there one thing want distinguish great reviewer here queen finding strange movie thrift dollar store said cant possibly imagine happy found one br br i even remember saturday morning every station simulcast it stuck wanted watch something else then again guess idea kid know liked way different character stuck together there crossover not work guess special intended effect drug nightmare muppetsbr br now watch adult hand treated strangest antidrug movie side reefer madness think ill leave get trouble\n"
          ]
        }
      ],
      "source": [
        "custom_review = X_train.iloc[0]\n",
        "\n",
        "# print cleaned review\n",
        "print(clean_review(custom_review))"
      ]
    },
    {
      "cell_type": "markdown",
      "id": "3e6cc440",
      "metadata": {
        "id": "3e6cc440"
      },
      "source": [
        "We now use this function to pre-process the review and remove words that don't add a lot of meaning in our model. "
      ]
    },
    {
      "cell_type": "markdown",
      "id": "5a762960",
      "metadata": {
        "id": "5a762960"
      },
      "source": [
        "## Q3. Implementing review counter function: (5 points)\n",
        "\n",
        "It is now time to implement the count function for the reviews. \n",
        "\n",
        "In this function, we count the occurrence of words and get the probabilities \n",
        "for the words based on the training data. \n",
        "\n",
        "In other words, we get the probability of occurrence of a word, given that the output is 'positive'.\n",
        "\n",
        "Similarly, we also compute the probability of occurence of a word, given that the output is 'negative'.\n",
        "\n"
      ]
    },
    {
      "cell_type": "code",
      "execution_count": 19,
      "id": "5de61f77",
      "metadata": {
        "id": "5de61f77"
      },
      "outputs": [],
      "source": [
        "# TASK CELL\n",
        "def review_counter(output_occurrence, reviews, positive_or_negative):\n",
        "    '''\n",
        "    Params:\n",
        "        output_occurrence: a dictionary that will be used to map each pair to its frequency\n",
        "        reviews: a list of reviews\n",
        "        positive_or_negative: a list corresponding to the sentiment of each review (either 0 or 1)\n",
        "    Return:\n",
        "        output: a dictionary mapping each pair to its frequency\n",
        "    '''\n",
        "    ## Steps :\n",
        "    # define the key, which is the word and label tuple\n",
        "    # if the key exists in the dictionary, increment the count\n",
        "    # else, if the key is new, add it to the dictionary and set the count to 1\n",
        "\n",
        "    for label, review in zip(positive_or_negative, reviews):\n",
        "      split_review = clean_review(review).split()\n",
        "      for word in split_review:\n",
        "        # Your code here\n",
        "        n = find_occurrence(output_occurrence,word,label)\n",
        "        output_occurrence[(word,label)] = n+1\n",
        "   \n",
        "    return output_occurrence\n",
        "   \n"
      ]
    },
    {
      "cell_type": "markdown",
      "id": "18238223",
      "metadata": {
        "id": "18238223"
      },
      "source": [
        "### Test your function with example reviews:\n",
        "\n",
        "Feel free to run the cell below and understand whether the above function that you have defined is producing the optimum results. "
      ]
    },
    {
      "cell_type": "code",
      "execution_count": 20,
      "id": "07a4c58a",
      "metadata": {
        "colab": {
          "base_uri": "https://localhost:8080/"
        },
        "id": "07a4c58a",
        "outputId": "af32dc14-e111-4c37-eb5d-2e88246c3db7"
      },
      "outputs": [
        {
          "output_type": "execute_result",
          "data": {
            "text/plain": [
              "{('bored', 1): 2,\n",
              " ('complete', 1): 1,\n",
              " ('enjoyed', 0): 1,\n",
              " ('fantastic', 0): 1,\n",
              " ('fullest', 0): 1,\n",
              " ('got', 1): 1,\n",
              " ('money', 1): 1,\n",
              " ('movie', 0): 2,\n",
              " ('moview', 1): 1,\n",
              " ('throught', 1): 1,\n",
              " ('time', 1): 1,\n",
              " ('waste', 1): 1,\n",
              " ('watch', 1): 1}"
            ]
          },
          "metadata": {},
          "execution_count": 20
        }
      ],
      "source": [
        "# Testing your function\n",
        "\n",
        "result = {}\n",
        "reviews = ['got bored throught the moview', 'The movie was fantastic', 'Will not watch it again', 'Was bored, it was a complete waste of time and money', 'Enjoyed the movie to the fullest']\n",
        "ys = [1, 0, 1, 1, 0]\n",
        "review_counter(result,reviews, ys)"
      ]
    },
    {
      "cell_type": "markdown",
      "id": "927f89bb",
      "metadata": {
        "id": "927f89bb"
      },
      "source": [
        "### Expected Output:\n",
        " {('bored', 1): 2, <br>\n",
        " ('complete', 1): 1, <br>\n",
        " ('enjoyed', 0): 1, <br>\n",
        " ('fantastic', 0): 1, <br>\n",
        " ('fullest', 0): 1, <br>\n",
        " ('got', 1): 1, <br>\n",
        " ('money', 1): 1, <br>\n",
        " ('movie', 0): 2, <br>\n",
        " ('moview', 1): 1, <br>\n",
        " ('throught', 1): 1, <br>\n",
        " ('time', 1): 1, <br>\n",
        " ('waste', 1): 1, <br>\n",
        " ('watch', 1): 1}"
      ]
    },
    {
      "cell_type": "code",
      "execution_count": 21,
      "id": "9bc62e13",
      "metadata": {
        "id": "9bc62e13"
      },
      "outputs": [],
      "source": [
        "# Build the freqs dictionary for later uses\n",
        "\n",
        "freqs = review_counter({}, X_train, y_train)"
      ]
    },
    {
      "cell_type": "code",
      "execution_count": 22,
      "id": "0eddf420",
      "metadata": {
        "id": "0eddf420",
        "colab": {
          "base_uri": "https://localhost:8080/"
        },
        "outputId": "dacf6760-f9ec-4cde-ce7c-3cdc087ff78c"
      },
      "outputs": [
        {
          "output_type": "execute_result",
          "data": {
            "text/plain": [
              "{('there', 1): 2380,\n",
              " ('one', 1): 10442,\n",
              " ('thing', 1): 3667,\n",
              " ('want', 1): 2077,\n",
              " ('distinguish', 1): 30,\n",
              " ('great', 1): 2143,\n",
              " ('reviewer', 1): 200,\n",
              " ('here', 1): 1096,\n",
              " ('queen', 1): 144,\n",
              " ('finding', 1): 128,\n",
              " ('strange', 1): 346,\n",
              " ('movie', 1): 22425,\n",
              " ('thrift', 1): 3,\n",
              " ('dollar', 1): 183,\n",
              " ('store', 1): 220,\n",
              " ('said', 1): 1023,\n",
              " ('cant', 1): 1823,\n",
              " ('possibly', 1): 328,\n",
              " ('imagine', 1): 309,\n",
              " ('happy', 1): 260,\n",
              " ('found', 1): 955,\n",
              " ('br', 1): 23234,\n",
              " ('i', 1): 2317,\n",
              " ('even', 1): 6149,\n",
              " ('remember', 1): 562,\n",
              " ('saturday', 1): 93,\n",
              " ('morning', 1): 116,\n",
              " ('every', 1): 1554,\n",
              " ('station', 1): 138,\n",
              " ('simulcast', 1): 1,\n",
              " ('it', 1): 5147,\n",
              " ('stuck', 1): 152,\n",
              " ('wanted', 1): 632,\n",
              " ('watch', 1): 2833,\n",
              " ('something', 1): 2239,\n",
              " ('else', 1): 932,\n",
              " ('then', 1): 433,\n",
              " ('again', 1): 743,\n",
              " ('guess', 1): 667,\n",
              " ('idea', 1): 1337,\n",
              " ('kid', 1): 1132,\n",
              " ('know', 1): 2982,\n",
              " ('liked', 1): 429,\n",
              " ('way', 1): 3171,\n",
              " ('different', 1): 618,\n",
              " ('character', 1): 5623,\n",
              " ('together', 1): 750,\n",
              " ('crossover', 1): 11,\n",
              " ('not', 1): 1126,\n",
              " ('work', 1): 1890,\n",
              " ('special', 1): 954,\n",
              " ('intended', 1): 160,\n",
              " ('effect', 1): 1380,\n",
              " ('drug', 1): 295,\n",
              " ('nightmare', 1): 143,\n",
              " ('muppetsbr', 1): 1,\n",
              " ('now', 1): 537,\n",
              " ('adult', 1): 258,\n",
              " ('hand', 1): 619,\n",
              " ('treated', 1): 119,\n",
              " ('strangest', 1): 15,\n",
              " ('antidrug', 1): 2,\n",
              " ('side', 1): 471,\n",
              " ('reefer', 1): 5,\n",
              " ('madness', 1): 45,\n",
              " ('think', 1): 2940,\n",
              " ('ill', 1): 510,\n",
              " ('leave', 1): 436,\n",
              " ('get', 1): 5200,\n",
              " ('trouble', 1): 255,\n",
              " ('wasted', 1): 353,\n",
              " ('enough', 1): 1563,\n",
              " ('time', 1): 5671,\n",
              " ('actually', 1): 1990,\n",
              " ('watching', 1): 2025,\n",
              " ('chore', 1): 19,\n",
              " ('waste', 1): 1030,\n",
              " ('writing', 1): 602,\n",
              " ('big', 1): 1308,\n",
              " ('review', 1): 739,\n",
              " ('much', 1): 3858,\n",
              " ('crack', 1): 66,\n",
              " ('smile', 1): 87,\n",
              " ('joke', 1): 779,\n",
              " ('boring', 1): 1123,\n",
              " ('forced', 1): 320,\n",
              " ('lacked', 1): 88,\n",
              " ('kind', 1): 1357,\n",
              " ('wit', 1): 73,\n",
              " ('kept', 1): 330,\n",
              " ('saying', 1): 474,\n",
              " ('wheres', 1): 29,\n",
              " ('punchline', 1): 14,\n",
              " ('almost', 1): 1267,\n",
              " ('single', 1): 378,\n",
              " ('obnoxious', 1): 99,\n",
              " ('stereotype', 1): 173,\n",
              " ('situation', 1): 405,\n",
              " ('clichãd', 1): 139,\n",
              " ('half', 1): 931,\n",
              " ('solution', 1): 43,\n",
              " ('happened', 1): 443,\n",
              " ('next', 1): 712,\n",
              " ('scene', 1): 4561,\n",
              " ('life', 1): 2057,\n",
              " ('understand', 1): 667,\n",
              " ('got', 1): 1600,\n",
              " ('many', 1): 2297,\n",
              " ('good', 1): 5735,\n",
              " ('did', 1): 292,\n",
              " ('like', 1): 8983,\n",
              " ('clunky', 1): 30,\n",
              " ('acting', 1): 3128,\n",
              " ('poorly', 1): 548,\n",
              " ('composed', 1): 25,\n",
              " ('film', 1): 16764,\n",
              " ('making', 1): 1111,\n",
              " ('fat', 1): 176,\n",
              " ('girl', 1): 1613,\n",
              " ('you', 1): 767,\n",
              " ('matter', 1): 531,\n",
              " ('worst', 1): 1867,\n",
              " ('ever', 1): 2462,\n",
              " ('made', 1): 3360,\n",
              " ('plot', 1): 3311,\n",
              " ('go', 1): 2980,\n",
              " ('follows', 1): 161,\n",
              " ('slog', 1): 6,\n",
              " ('jungle', 1): 117,\n",
              " ('looking', 1): 1126,\n",
              " ('area', 1): 201,\n",
              " ('10', 1): 817,\n",
              " ('minute', 1): 2010,\n",
              " ('so', 1): 812,\n",
              " ('bo', 1): 55,\n",
              " ('somewhere', 1): 216,\n",
              " ('strip', 1): 59,\n",
              " ('more', 1): 313,\n",
              " ('give', 1): 1911,\n",
              " ('another', 1): 1690,\n",
              " ('excuse', 1): 310,\n",
              " ('back', 1): 1816,\n",
              " ('oh', 1): 765,\n",
              " ('look', 1): 2889,\n",
              " ('tarzan', 1): 79,\n",
              " ('guy', 1): 2118,\n",
              " ('kill', 1): 841,\n",
              " ('safari', 1): 9,\n",
              " ('people', 1): 3666,\n",
              " ('fight', 1): 605,\n",
              " ('save', 1): 648,\n",
              " ('run', 1): 767,\n",
              " ('credit', 1): 521,\n",
              " ('notice', 1): 174,\n",
              " ('realism', 1): 77,\n",
              " ('19th', 1): 23,\n",
              " ('century', 1): 159,\n",
              " ('ship', 1): 248,\n",
              " ('erroneous', 1): 1,\n",
              " ('15th', 1): 2,\n",
              " ('right', 1): 1321,\n",
              " ('around', 1): 1466,\n",
              " ('1620', 1): 1,\n",
              " ('memory', 1): 171,\n",
              " ('serf', 1): 77,\n",
              " ('me', 1): 1065,\n",
              " ('realistic', 1): 153,\n",
              " ('mayflower', 1): 3,\n",
              " ('far', 1): 1146,\n",
              " ('never', 1): 2727,\n",
              " ('went', 1): 678,\n",
              " ('australia', 1): 54,\n",
              " ('attempted', 1): 84,\n",
              " ('voyage', 1): 23,\n",
              " ('handled', 1): 66,\n",
              " ('rd', 1): 6,\n",
              " ('using', 1): 359,\n",
              " ('hoping', 1): 199,\n",
              " ('poor', 1): 1170,\n",
              " ('job', 1): 630,\n",
              " ('indeedbr', 1): 10,\n",
              " ('they', 1): 143,\n",
              " ('printed', 1): 8,\n",
              " ('cover', 1): 325,\n",
              " ('art', 1): 414,\n",
              " ('dvd', 1): 757,\n",
              " ('wonder', 1): 534,\n",
              " ('may', 1): 1145,\n",
              " ('noticed', 1): 123,\n",
              " ('little', 1): 2392,\n",
              " ('blunder', 1): 9,\n",
              " ('mention', 1): 388,\n",
              " ('plain', 1): 349,\n",
              " ('awful', 1): 1157,\n",
              " ('would', 1): 5797,\n",
              " ('expected', 1): 292,\n",
              " ('better', 1): 2572,\n",
              " ('sam', 1): 128,\n",
              " ('neill', 1): 1,\n",
              " ('writer', 1): 652,\n",
              " ('probably', 1): 1239,\n",
              " ('experience', 1): 363,\n",
              " ('army', 1): 166,\n",
              " ('glanced', 1): 2,\n",
              " ('history', 1): 433,\n",
              " ('book', 1): 1154,\n",
              " ('still', 1): 1808,\n",
              " ('cheaply', 1): 30,\n",
              " ('produced', 1): 242,\n",
              " ('war', 1): 611,\n",
              " ('taking', 1): 354,\n",
              " ('longneeded', 1): 1,\n",
              " ('role', 1): 1240,\n",
              " ('black', 1): 820,\n",
              " ('soldier', 1): 246,\n",
              " ('second', 1): 881,\n",
              " ('world', 1): 1053,\n",
              " ('warbr', 1): 15,\n",
              " ('the', 1): 4907,\n",
              " ('action', 1): 1258,\n",
              " ('confused', 1): 147,\n",
              " ('unbelievableany', 1): 1,\n",
              " ('episode', 1): 707,\n",
              " ('combat', 1): 38,\n",
              " ('production', 1): 867,\n",
              " ('value', 1): 484,\n",
              " ('cast', 1): 1405,\n",
              " ('interesting', 1): 1297,\n",
              " ('seeing', 1): 790,\n",
              " ('new', 1): 1333,\n",
              " ('york', 1): 232,\n",
              " ('giant', 1): 210,\n",
              " ('rosie', 1): 11,\n",
              " ('greer', 1): 4,\n",
              " ('worth', 1): 870,\n",
              " ('buck', 1): 144,\n",
              " ('paid', 1): 184,\n",
              " ('this', 1): 2519,\n",
              " ('direction', 1): 628,\n",
              " ('fifth', 1): 29,\n",
              " ('ratethe', 1): 1,\n",
              " ('men', 1): 685,\n",
              " ('wear', 1): 155,\n",
              " ('korean', 1): 37,\n",
              " ('uniform', 1): 55,\n",
              " ('pretty', 1): 1695,\n",
              " ('lousy', 1): 139,\n",
              " ('weather', 1): 37,\n",
              " ('u', 1): 1312,\n",
              " ('reached', 1): 32,\n",
              " ('germany', 1): 57,\n",
              " ('1944', 1): 23,\n",
              " ('sunny', 1): 15,\n",
              " ('show', 1): 2877,\n",
              " ('terrain', 1): 5,\n",
              " ('resembled', 1): 14,\n",
              " ('northern', 1): 29,\n",
              " ('california', 1): 69,\n",
              " ('script', 1): 1694,\n",
              " ('make', 1): 5022,\n",
              " ('clear', 1): 328,\n",
              " ('support', 1): 107,\n",
              " ('troop', 1): 49,\n",
              " ('used', 1): 768,\n",
              " ('nice', 1): 672,\n",
              " ('touch', 1): 179,\n",
              " ('carrying', 1): 61,\n",
              " ('springfield', 1): 2,\n",
              " ('rifle', 1): 24,\n",
              " ('instead', 1): 1120,\n",
              " ('m1', 1): 2,\n",
              " ('rate', 1): 221,\n",
              " ('issued', 1): 6,\n",
              " ('withbr', 1): 38,\n",
              " ('basic', 1): 228,\n",
              " ('story', 1): 4135,\n",
              " ('idearacist', 1): 1,\n",
              " ('southern', 1): 55,\n",
              " ('officer', 1): 138,\n",
              " ('commanding', 1): 9,\n",
              " ('expanded', 1): 11,\n",
              " ('budget', 1): 868,\n",
              " ('late', 1): 324,\n",
              " ('try', 1): 1385,\n",
              " ('take', 1): 2159,\n",
              " ('is', 1): 1106,\n",
              " ('admire', 1): 45,\n",
              " ('creator', 1): 87,\n",
              " ('effortbr', 1): 12,\n",
              " ('ago', 1): 392,\n",
              " ('thinking', 1): 559,\n",
              " ('set', 1): 1231,\n",
              " ('italy', 1): 65,\n",
              " ('sense', 1): 900,\n",
              " ('operating', 1): 26,\n",
              " ('ok', 1): 587,\n",
              " ('well', 1): 3012,\n",
              " ('sitting', 1): 249,\n",
              " ('once', 1): 160,\n",
              " ('several', 1): 519,\n",
              " ('irritated', 1): 28,\n",
              " ('mebr', 1): 108,\n",
              " ('first', 1): 3238,\n",
              " ('mani', 1): 2,\n",
              " ('really', 1): 4988,\n",
              " ('hated', 1): 157,\n",
              " ('problem', 1): 1065,\n",
              " ('sid', 1): 31,\n",
              " ('nancy', 1): 28,\n",
              " ('hard', 1): 1012,\n",
              " ('rationalizing', 1): 2,\n",
              " ('spending', 1): 65,\n",
              " ('fair', 1): 183,\n",
              " ('chunk', 1): 29,\n",
              " ('following', 1): 216,\n",
              " ('care', 1): 680,\n",
              " ('about', 1): 293,\n",
              " ('relate', 1): 61,\n",
              " ('to', 1): 441,\n",
              " ('actor', 1): 2662,\n",
              " ('technically', 1): 82,\n",
              " ('bad', 1): 5679,\n",
              " ('written', 1): 525,\n",
              " ('contempt', 1): 25,\n",
              " ('them', 1): 892,\n",
              " ('on', 1): 864,\n",
              " ('see', 1): 4300,\n",
              " ('sky', 1): 85,\n",
              " ('fall', 1): 655,\n",
              " ('lead', 1): 806,\n",
              " ('question', 1): 431,\n",
              " ('heart', 1): 320,\n",
              " ('intent', 1): 61,\n",
              " ('simply', 1): 860,\n",
              " ('document', 1): 31,\n",
              " ('generation', 1): 119,\n",
              " ('type', 1): 501,\n",
              " ('bohemian', 1): 2,\n",
              " ('wandering', 1): 50,\n",
              " ('europe', 1): 41,\n",
              " ('60', 1): 153,\n",
              " ('criticize', 1): 13,\n",
              " ('lambaste', 1): 2,\n",
              " ('warning', 1): 166,\n",
              " ('final', 1): 484,\n",
              " ('assessment', 1): 4,\n",
              " ('that', 1): 1325,\n",
              " ('say', 1): 2753,\n",
              " ('determining', 1): 3,\n",
              " ('anything', 1): 1464,\n",
              " ('salvageable', 1): 3,\n",
              " ('all', 1): 1397,\n",
              " ('hinge', 1): 12,\n",
              " ('questionbr', 1): 12,\n",
              " ('regardless', 1): 62,\n",
              " ('unlikeable', 1): 66,\n",
              " ('consequence', 1): 52,\n",
              " ('crap', 1): 619,\n",
              " ('happens', 1): 522,\n",
              " ('sort', 1): 726,\n",
              " ('statement', 1): 86,\n",
              " ('becomes', 1): 429,\n",
              " ('tolerable', 1): 35,\n",
              " ('schroeder', 1): 5,\n",
              " ('geriatric', 1): 8,\n",
              " ('establishment', 1): 12,\n",
              " ('square', 1): 45,\n",
              " ('proceeds', 1): 39,\n",
              " ('carry', 1): 213,\n",
              " ('weight', 1): 54,\n",
              " ('than', 1): 16,\n",
              " ('countless', 1): 59,\n",
              " ('stupid', 1): 1173,\n",
              " ('aip', 1): 3,\n",
              " ('concerning', 1): 44,\n",
              " ('counterculturebr', 1): 3,\n",
              " ('at', 1): 292,\n",
              " ('bare', 1): 71,\n",
              " ('minimum', 1): 46,\n",
              " ('two', 1): 2505,\n",
              " ('going', 1): 1871,\n",
              " ('soundtrack', 1): 252,\n",
              " ('obviously', 1): 587,\n",
              " ('cymbaline', 1): 4,\n",
              " ('others', 1): 517,\n",
              " ('mentioned', 1): 255,\n",
              " ('too', 1): 471,\n",
              " ('forefront', 1): 6,\n",
              " ('guessing', 1): 36,\n",
              " ('pink', 1): 51,\n",
              " ('floyd', 1): 31,\n",
              " ('fan', 1): 1247,\n",
              " ('reason', 1): 1424,\n",
              " ('nothing', 1): 2316,\n",
              " ('read', 1): 918,\n",
              " ('likely', 1): 199,\n",
              " ('stop', 1): 534,\n",
              " ('anyway', 1): 452,\n",
              " ('either', 1): 884,\n",
              " ('curiosity', 1): 50,\n",
              " ('hearing', 1): 91,\n",
              " ('barely', 1): 292,\n",
              " ('thisbr', 1): 115,\n",
              " ('secondly', 1): 64,\n",
              " ('scenery', 1): 189,\n",
              " ('ibiza', 1): 2,\n",
              " ('place', 1): 1008,\n",
              " ('visit', 1): 89,\n",
              " ('maybe', 1): 1115,\n",
              " ('im', 1): 2224,\n",
              " ('sick', 1): 261,\n",
              " ('los', 1): 59,\n",
              " ('angeles', 1): 49,\n",
              " ('chicago', 1): 43,\n",
              " ('european', 1): 102,\n",
              " ('beautiful', 1): 538,\n",
              " ('ugly', 1): 210,\n",
              " ('mostly', 1): 369,\n",
              " ('always', 1): 945,\n",
              " ('welcomebr', 1): 4,\n",
              " ('but', 1): 769,\n",
              " ('particular', 1): 274,\n",
              " ('genius', 1): 134,\n",
              " ('revolutionary', 1): 65,\n",
              " ('camera', 1): 871,\n",
              " ('moral', 1): 144,\n",
              " ('tone', 1): 206,\n",
              " ('message', 1): 326,\n",
              " ('sensibility', 1): 19,\n",
              " ('perhaps', 1): 649,\n",
              " ('merely', 1): 137,\n",
              " ('came', 1): 646,\n",
              " ('critical', 1): 73,\n",
              " ('mindset', 1): 16,\n",
              " ('least', 1): 1523,\n",
              " ('part', 1): 1963,\n",
              " ('marketable', 1): 9,\n",
              " ('extent', 1): 54,\n",
              " ('honest', 1): 179,\n",
              " ('glorification', 1): 7,\n",
              " ('abject', 1): 7,\n",
              " ('excess', 1): 32,\n",
              " ('might', 1): 1347,\n",
              " ('expect', 1): 444,\n",
              " ('fact', 1): 1547,\n",
              " ('portrayal', 1): 159,\n",
              " ('closely', 1): 52,\n",
              " ('mirror', 1): 78,\n",
              " ('somewhat', 1): 318,\n",
              " ('distorted', 1): 28,\n",
              " ('opinion', 1): 343,\n",
              " ('modern', 1): 197,\n",
              " ('cultural', 1): 50,\n",
              " ('generationbr', 1): 6,\n",
              " ('yeah', 1): 232,\n",
              " ('bunch', 1): 477,\n",
              " ('yawn', 1): 50,\n",
              " ('nudity', 1): 286,\n",
              " ('sex', 1): 775,\n",
              " ('period', 1): 283,\n",
              " ('considered', 1): 175,\n",
              " ('novel', 1): 404,\n",
              " ('provocative', 1): 10,\n",
              " ('find', 1): 1822,\n",
              " ('offensive', 1): 109,\n",
              " ('titillating', 1): 7,\n",
              " ('doubt', 1): 325,\n",
              " ('rather', 1): 1123,\n",
              " ('extends', 1): 4,\n",
              " ('running', 1): 447,\n",
              " ('already', 1): 596,\n",
              " ('tedious', 1): 163,\n",
              " ('use', 1): 746,\n",
              " ('sexuality', 1): 60,\n",
              " ('especially', 1): 731,\n",
              " ('become', 1): 517,\n",
              " ('bit', 1): 1149,\n",
              " ('clichã', 1): 193,\n",
              " ('hindsight', 1): 16,\n",
              " ('blame', 1): 196,\n",
              " ('decade', 1): 141,\n",
              " ('able', 1): 461,\n",
              " ('away', 1): 1065,\n",
              " ('suppose', 1): 220,\n",
              " ('presence', 1): 172,\n",
              " ('graphic', 1): 144,\n",
              " ('political', 1): 189,\n",
              " ('social', 1): 154,\n",
              " ('weird', 1): 242,\n",
              " ('parent', 1): 281,\n",
              " ('werebr', 1): 6,\n",
              " ('should', 1): 42,\n",
              " ('surei', 1): 2,\n",
              " ('case', 1): 655,\n",
              " ('valley', 1): 47,\n",
              " ('expecting', 1): 274,\n",
              " ('largely', 1): 65,\n",
              " ('normally', 1): 122,\n",
              " ('arty', 1): 34,\n",
              " ('avant', 1): 5,\n",
              " ('garde', 1): 6,\n",
              " ('bound', 1): 43,\n",
              " ('annoying', 1): 539,\n",
              " ('hell', 1): 561,\n",
              " ('normal', 1): 143,\n",
              " ('healthy', 1): 25,\n",
              " ('reaction', 1): 148,\n",
              " ('if', 1): 657,\n",
              " ('sure', 1): 1114,\n",
              " ('spend', 1): 256,\n",
              " ('fellow', 1): 100,\n",
              " ('left', 1): 932,\n",
              " ('comment', 1): 537,\n",
              " ('enjoy', 1): 561,\n",
              " ('quite', 1): 1271,\n",
              " ('lot', 1): 1840,\n",
              " ('missing', 1): 308,\n",
              " ('need', 1): 1076,\n",
              " ('slow', 1): 444,\n",
              " ('motion', 1): 168,\n",
              " ('fireball', 1): 7,\n",
              " ('explosion', 1): 104,\n",
              " ('handle', 1): 92,\n",
              " ('generally', 1): 210,\n",
              " ('sympathize', 1): 18,\n",
              " ('aspect', 1): 254,\n",
              " ('plight', 1): 27,\n",
              " ('barring', 1): 6,\n",
              " ('filmmaking', 1): 165,\n",
              " ('camerawork', 1): 52,\n",
              " ('forth', 1): 68,\n",
              " ('hold', 1): 291,\n",
              " ('except', 1): 549,\n",
              " ('floyds', 1): 7,\n",
              " ('magnificence', 1): 4,\n",
              " ('just', 1): 122,\n",
              " ('begin', 1): 574,\n",
              " ('with', 1): 489,\n",
              " ('promise', 1): 129,\n",
              " ('could', 1): 3658,\n",
              " ('mild', 1): 71,\n",
              " ('spoiler', 1): 382,\n",
              " ('anyone', 1): 1107,\n",
              " ('el', 1): 59,\n",
              " ('filmbr', 1): 340,\n",
              " ('knew', 1): 312,\n",
              " ('conceivably', 1): 3,\n",
              " ('live', 1): 433,\n",
              " ('absolute', 1): 142,\n",
              " ('brilliance', 1): 19,\n",
              " ('original', 1): 1457,\n",
              " ('carrie', 1): 31,\n",
              " ('criticism', 1): 56,\n",
              " ('setting', 1): 232,\n",
              " ('gym', 1): 20,\n",
              " ('fire', 1): 329,\n",
              " ('white', 1): 500,\n",
              " ('victim', 1): 323,\n",
              " ('epitomized', 1): 3,\n",
              " ('conveyed', 1): 14,\n",
              " ('helplessness', 1): 2,\n",
              " ('truly', 1): 597,\n",
              " ('exploited', 1): 30,\n",
              " ('must', 1): 1168,\n",
              " ('feelbr', 1): 5,\n",
              " ('whoever', 1): 125,\n",
              " ('conceived', 1): 52,\n",
              " ('rachel', 1): 47,\n",
              " ('rage', 1): 39,\n",
              " ('completely', 1): 901,\n",
              " ('missed', 1): 222,\n",
              " ('subtlety', 1): 37,\n",
              " ('audience', 1): 1055,\n",
              " ('genuinely', 1): 70,\n",
              " ('share', 1): 145,\n",
              " ('she', 1): 112,\n",
              " ('sympathetic', 1): 55,\n",
              " ('true', 1): 605,\n",
              " ('outcast', 1): 18,\n",
              " ('circumstance', 1): 91,\n",
              " ('hisher', 1): 20,\n",
              " ('vice', 1): 44,\n",
              " ('entirely', 1): 196,\n",
              " ('unpleasant', 1): 60,\n",
              " ('convey', 1): 69,\n",
              " ('emotional', 1): 178,\n",
              " ('depth', 1): 227,\n",
              " ('connection', 1): 160,\n",
              " ('sissy', 1): 22,\n",
              " ('spaceks', 1): 1,\n",
              " ('act', 1): 755,\n",
              " ('alongside', 1): 35,\n",
              " ('attractive', 1): 141,\n",
              " ('popular', 1): 162,\n",
              " ('brigade', 1): 7,\n",
              " ('end', 1): 2479,\n",
              " ('torching', 1): 2,\n",
              " ('rest', 1): 803,\n",
              " ('soul', 1): 180,\n",
              " ('corrupt', 1): 43,\n",
              " ('whereas', 1): 49,\n",
              " ('complete', 1): 459,\n",
              " ('innocentbr', 1): 1,\n",
              " ('satisfaction', 1): 11,\n",
              " ('child', 1): 888,\n",
              " ('home', 1): 613,\n",
              " ('improvement', 1): 43,\n",
              " ('boy', 1): 689,\n",
              " ('getting', 1): 714,\n",
              " ('offed', 1): 8,\n",
              " ('climactic', 1): 21,\n",
              " ('unnecessarily', 1): 27,\n",
              " ('gory', 1): 121,\n",
              " ('actual', 1): 314,\n",
              " ('bloodshed', 1): 12,\n",
              " ('seen', 1): 2564,\n",
              " ('burning', 1): 67,\n",
              " ('and', 1): 1438,\n",
              " ('person', 1): 737,\n",
              " ('audacity', 1): 6,\n",
              " ('off', 1): 500,\n",
              " ('dy', 1): 162,\n",
              " ('unjustlybr', 1): 1,\n",
              " ('create', 1): 217,\n",
              " ('appropriately', 1): 29,\n",
              " ('explained', 1): 149,\n",
              " ('been', 1): 77,\n",
              " ('arm', 1): 178,\n",
              " ('tattoo', 1): 20,\n",
              " ('done', 1): 1177,\n",
              " ('nicely', 1): 67,\n",
              " ('itbr', 1): 409,\n",
              " ('yet', 1): 889,\n",
              " ('hideous', 1): 66,\n",
              " ('scream', 1): 171,\n",
              " ('knockoff', 1): 22,\n",
              " ('taint', 1): 4,\n",
              " ('reputation', 1): 80,\n",
              " ('compelling', 1): 97,\n",
              " ('rating', 1): 483,\n",
              " ('1', 1): 679,\n",
              " ('horribly', 1): 160,\n",
              " ('disappointed', 1): 433,\n",
              " ('unsympathetic', 1): 29,\n",
              " ('series', 1): 878,\n",
              " ('irritating', 1): 144,\n",
              " ('popculture', 1): 2,\n",
              " ('reference', 1): 181,\n",
              " ('thrown', 1): 224,\n",
              " ('ending', 1): 883,\n",
              " ('pale', 1): 53,\n",
              " ('comparison', 1): 116,\n",
              " ('gravestone', 1): 1,\n",
              " ('shocker', 1): 11,\n",
              " ('collection', 1): 105,\n",
              " ('old', 1): 1501,\n",
              " ('videotaped', 1): 10,\n",
              " ('realize', 1): 243,\n",
              " ('twice', 1): 127,\n",
              " ('theyre', 1): 656,\n",
              " ('alibi', 1): 9,\n",
              " ('iswas', 1): 4,\n",
              " ('long', 1): 1307,\n",
              " ('decided', 1): 357,\n",
              " ('chance', 1): 348,\n",
              " ('decision', 1): 128,\n",
              " ('other', 1): 247,\n",
              " ('free', 1): 281,\n",
              " ('tape', 1): 119,\n",
              " ('predictable', 1): 479,\n",
              " ('pacing', 1): 169,\n",
              " ('thats', 1): 1785,\n",
              " ('surprising', 1): 76,\n",
              " ('former', 1): 162,\n",
              " ('soapopera', 1): 12,\n",
              " ('star', 1): 1294,\n",
              " ('overact', 1): 10,\n",
              " ('clichãs', 1): 157,\n",
              " ('manages', 1): 186,\n",
              " ('screw', 1): 55,\n",
              " ('easiest', 1): 9,\n",
              " ('damn', 1): 166,\n",
              " ('impress', 1): 55,\n",
              " ('methrough', 1): 2,\n",
              " ('court', 1): 50,\n",
              " ('elicit', 1): 15,\n",
              " ('emotion', 1): 217,\n",
              " ('cardboardthin', 1): 2,\n",
              " ('real', 1): 1572,\n",
              " ('redeeming', 1): 227,\n",
              " ('quality', 1): 581,\n",
              " ('whatsoever', 1): 221,\n",
              " ('dialog', 1): 508,\n",
              " ('full', 1): 584,\n",
              " ('laughable', 1): 289,\n",
              " ('lift', 1): 58,\n",
              " ('110', 1): 134,\n",
              " ('thealbeit', 1): 2,\n",
              " ('unintentionally', 1): 75,\n",
              " ('comic', 1): 308,\n",
              " ('relief', 1): 99,\n",
              " ('pay', 1): 284,\n",
              " ('attention', 1): 298,\n",
              " ('looked', 1): 576,\n",
              " ('screen', 1): 906,\n",
              " ('laugh', 1): 932,\n",
              " ('note', 1): 251,\n",
              " ('line', 1): 1400,\n",
              " ('torus', 1): 9,\n",
              " ('spelling', 1): 29,\n",
              " ('summary', 1): 85,\n",
              " ('everyone', 1): 753,\n",
              " ('opted', 1): 16,\n",
              " ('current', 1): 81,\n",
              " ('informative', 1): 9,\n",
              " ('thoroughly', 1): 103,\n",
              " ('tv', 1): 1017,\n",
              " ('sit', 1): 342,\n",
              " ('310', 1): 136,\n",
              " ('scary', 1): 422,\n",
              " ('yes', 1): 631,\n",
              " ('jampacked', 1): 3,\n",
              " ('from', 1): 184,\n",
              " ('skinny', 1): 21,\n",
              " ('maslin', 1): 3,\n",
              " ('beach', 1): 123,\n",
              " ('nudist', 1): 5,\n",
              " ('sabr', 1): 3,\n",
              " ('saw', 1): 1149,\n",
              " ('year', 1): 2102,\n",
              " ('safe', 1): 85,\n",
              " ('bizarre', 1): 180,\n",
              " ('topic', 1): 82,\n",
              " ('discussion', 1): 56,\n",
              " ('school', 1): 664,\n",
              " ('day', 1): 1278,\n",
              " ('horrible', 1): 878,\n",
              " ('hardly', 1): 298,\n",
              " ('romantic', 1): 203,\n",
              " ('comedy', 1): 1315,\n",
              " ('showcase', 1): 44,\n",
              " ('hit', 1): 433,\n",
              " ('lowpoint', 1): 3,\n",
              " ('newage', 1): 5,\n",
              " ('staring', 1): 64,\n",
              " ('legsbr', 1): 3,\n",
              " ('god', 1): 589,\n",
              " ('nah', 1): 7,\n",
              " ('heavenbr', 1): 8,\n",
              " ('steer', 1): 47,\n",
              " ('unless', 1): 378,\n",
              " ('hear', 1): 299,\n",
              " ('amateur', 1): 143,\n",
              " ('discus', 1): 51,\n",
              " ('farting', 1): 24,\n",
              " ('adultery', 1): 23,\n",
              " ('process', 1): 121,\n",
              " ('superlguing', 1): 3,\n",
              " ('genitals', 1): 18,\n",
              " ('avoid', 1): 497,\n",
              " ('sweeney', 1): 5,\n",
              " ('todd', 1): 40,\n",
              " ('thanks', 1): 128,\n",
              " ('tim', 1): 109,\n",
              " ('burton', 1): 68,\n",
              " ('recent', 1): 198,\n",
              " ('though', 1): 1661,\n",
              " ('tale', 1): 249,\n",
              " ('andy', 1): 76,\n",
              " ('milliganthat', 1): 3,\n",
              " ('notorious', 1): 65,\n",
              " ('sleaze', 1): 65,\n",
              " ('merchant', 1): 17,\n",
              " ('gave', 1): 513,\n",
              " ('al', 1): 94,\n",
              " ('adamson', 1): 9,\n",
              " ('ted', 1): 50,\n",
              " ('v', 1): 138,\n",
              " ('mikels', 1): 3,\n",
              " ('moneybr', 1): 36,\n",
              " ('happen', 1): 418,\n",
              " ('eventually', 1): 236,\n",
              " ('horror', 1): 1541,\n",
              " ('exploitation', 1): 118,\n",
              " ('80', 1): 335,\n",
              " ('finally', 1): 601,\n",
              " ('reviewing', 1): 27,\n",
              " ('milligan', 1): 18,\n",
              " ('1964', 1): 15,\n",
              " ('1990', 1): 34,\n",
              " ('movienone', 1): 3,\n",
              " ('watchable', 1): 170,\n",
              " ('bloodthirsty', 1): 23,\n",
              " ('butcher', 1): 17,\n",
              " ('exceptionbr', 1): 6,\n",
              " ('talk', 1): 389,\n",
              " ('herelots', 1): 3,\n",
              " ('reach', 1): 127,\n",
              " ('manos', 1): 23,\n",
              " ('fate', 1): 92,\n",
              " ('level', 1): 441,\n",
              " ('wait', 1): 271,\n",
              " ('tirelessly', 1): 5,\n",
              " ('love', 1): 1727,\n",
              " ('cheap', 1): 572,\n",
              " ('gore', 1): 488,\n",
              " ('violence', 1): 440,\n",
              " ('between', 1): 46,\n",
              " ('spite', 1): 68,\n",
              " ('breast', 1): 108,\n",
              " ('shocking', 1): 147,\n",
              " ('sleazy', 1): 58,\n",
              " ('trash', 1): 280,\n",
              " ('cinema', 1): 420,\n",
              " ('devotee', 1): 9,\n",
              " ('mst3k', 1): 93,\n",
              " ('tear', 1): 98,\n",
              " ('apart', 1): 266,\n",
              " ('mercilessly', 1): 11,\n",
              " ('sadly', 1): 285,\n",
              " ('die', 1): 319,\n",
              " ('aid', 1): 62,\n",
              " ('1991', 1): 28,\n",
              " ('id', 1): 601,\n",
              " ('delirious', 1): 13,\n",
              " ('ghastly', 1): 22,\n",
              " ('thoughits', 1): 5,\n",
              " ('horrific', 1): 63,\n",
              " ('qualify', 1): 25,\n",
              " ('shot', 1): 1281,\n",
              " ('video', 1): 728,\n",
              " ('constant', 1): 120,\n",
              " ('screaching', 1): 5,\n",
              " ('sound', 1): 904,\n",
              " ('audiosounds', 1): 5,\n",
              " ('microphone', 1): 27,\n",
              " ('sometimes', 1): 339,\n",
              " ('can', 1): 537,\n",
              " ('badly', 1): 399,\n",
              " ('dubbedin', 1): 5,\n",
              " ('music', 1): 969,\n",
              " ('suddenly', 1): 233,\n",
              " ('appear', 1): 278,\n",
              " ('entire', 1): 690,\n",
              " ('editing', 1): 362,\n",
              " ('zerobr', 1): 6,\n",
              " ('contrived', 1): 153,\n",
              " ('ridiculous', 1): 551,\n",
              " ('20', 1): 337,\n",
              " ('gay', 1): 350,\n",
              " ('man', 1): 1865,\n",
              " ('trying', 1): 1265,\n",
              " ('hide', 1): 140,\n",
              " ('livein', 1): 8,\n",
              " ('lover', 1): 219,\n",
              " ('visiting', 1): 25,\n",
              " ('please', 1): 511,\n",
              " ('mother', 1): 530,\n",
              " ('picture', 1): 631,\n",
              " ('son', 1): 447,\n",
              " ('kissing', 1): 34,\n",
              " ('boyfrioend', 1): 5,\n",
              " ('beyond', 1): 454,\n",
              " ('melodramatic', 1): 39,\n",
              " ('roll', 1): 120,\n",
              " ('stereotypical', 1): 122,\n",
              " ('view', 1): 380,\n",
              " ('worse', 1): 959,\n",
              " ('porno', 1): 67,\n",
              " ('poorbr', 1): 13,\n",
              " ('a', 1): 1278,\n",
              " ('anybr', 1): 8,\n",
              " ('title', 1): 724,\n",
              " ('lame', 1): 473,\n",
              " ('attempt', 1): 902,\n",
              " ('call', 1): 581,\n",
              " ('smallest', 1): 16,\n",
              " ('praisebr', 1): 6,\n",
              " ('cost', 1): 240,\n",
              " ('directing', 1): 291,\n",
              " ('producer', 1): 417,\n",
              " ('vanity', 1): 29,\n",
              " ('costed', 1): 5,\n",
              " ('price', 1): 102,\n",
              " ('videotape', 1): 20,\n",
              " ('onbr', 1): 72,\n",
              " ('ametuer', 1): 5,\n",
              " ('garbage', 1): 317,\n",
              " ('business', 1): 224,\n",
              " ('released', 1): 331,\n",
              " ('onto', 1): 145,\n",
              " ('deceptive', 1): 11,\n",
              " ('cunsomer', 1): 5,\n",
              " ('stress', 1): 61,\n",
              " ('sugarplum', 1): 5,\n",
              " ('isbr', 1): 78,\n",
              " ('lowe', 1): 26,\n",
              " ('return', 1): 305,\n",
              " ('nest', 1): 13,\n",
              " ('after', 1): 182,\n",
              " ('failed', 1): 265,\n",
              " ('relationship', 1): 291,\n",
              " ('he', 1): 1276,\n",
              " ('assigned', 1): 26,\n",
              " ('jury', 1): 19,\n",
              " ('duty', 1): 43,\n",
              " ('plan', 1): 260,\n",
              " ('somehow', 1): 343,\n",
              " ('realizes', 1): 34,\n",
              " ('defendant', 1): 2,\n",
              " ('serious', 1): 408,\n",
              " ('crush', 1): 39,\n",
              " ('since', 1): 1059,\n",
              " ('gradebr', 1): 2,\n",
              " ('through', 1): 189,\n",
              " ('living', 1): 363,\n",
              " ('past', 1): 414,\n",
              " ('telling', 1): 187,\n",
              " ('feeling', 1): 536,\n",
              " ('towards', 1): 247,\n",
              " ('played', 1): 827,\n",
              " ('camp', 1): 179,\n",
              " ('remembers', 1): 14,\n",
              " ('everything', 1): 930,\n",
              " ('power', 1): 447,\n",
              " ('murder', 1): 480,\n",
              " ('staying', 1): 48,\n",
              " ('succeeding', 1): 1,\n",
              " ('creating', 1): 105,\n",
              " ('successful', 1): 205,\n",
              " ('timebr', 1): 150,\n",
              " ('ive', 1): 1334,\n",
              " ('heard', 1): 435,\n",
              " ('st', 1): 74,\n",
              " ('augustine', 1): 3,\n",
              " ('oldest', 1): 18,\n",
              " ('city', 1): 390,\n",
              " ('also', 1): 2865,\n",
              " ('tie', 1): 81,\n",
              " ('ponce', 1): 3,\n",
              " ('de', 1): 178,\n",
              " ('leon', 1): 5,\n",
              " ('backdrop', 1): 48,\n",
              " ('start', 1): 1288,\n",
              " ('unfortunately', 1): 716,\n",
              " ('local', 1): 393,\n",
              " ('police', 1): 395,\n",
              " ('inept', 1): 107,\n",
              " ('judge', 1): 132,\n",
              " ('idiot', 1): 211,\n",
              " ('defense', 1): 42,\n",
              " ('counsel', 1): 3,\n",
              " ('joanie', 1): 1,\n",
              " ('cunningham', 1): 5,\n",
              " ('whether', 1): 327,\n",
              " ('director', 1): 2026,\n",
              " ('letting', 1): 59,\n",
              " ('put', 1): 1154,\n",
              " ('hapless', 1): 29,\n",
              " ('in', 1): 1015,\n",
              " ('short', 1): 731,\n",
              " ('sleep', 1): 131,\n",
              " ('translating', 1): 2,\n",
              " ('5year', 1): 3,\n",
              " ('working', 1): 261,\n",
              " ('intelligence', 1): 110,\n",
              " ('course', 1): 839,\n",
              " ('hollywood', 1): 663,\n",
              " ('drunken', 1): 48,\n",
              " ('teenager', 1): 187,\n",
              " ('spring', 1): 32,\n",
              " ('break', 1): 355,\n",
              " ('claim', 1): 175,\n",
              " ('someone', 1): 1202,\n",
              " ('strives', 1): 5,\n",
              " ('greatness', 1): 25,\n",
              " ('poetry', 1): 27,\n",
              " ('delivers', 1): 86,\n",
              " ('muddled', 1): 59,\n",
              " ('often', 1): 498,\n",
              " ('disparate', 1): 7,\n",
              " ('pretentious', 1): 167,\n",
              " ('dialogue', 1): 843,\n",
              " ('accurately', 1): 23,\n",
              " ('defined', 1): 31,\n",
              " ('intelligent', 1): 143,\n",
              " ('masterful', 1): 22,\n",
              " ('imagination', 1): 119,\n",
              " ('pitiful', 1): 53,\n",
              " ('human', 1): 519,\n",
              " ('nature', 1): 219,\n",
              " ('tolerate', 1): 22,\n",
              " ('incorrectness', 1): 6,\n",
              " ('artistic', 1): 108,\n",
              " ('freedom', 1): 33,\n",
              " ('suspension', 1): 33,\n",
              " ('disbelief', 1): 75,\n",
              " ('slavic', 1): 2,\n",
              " ('female', 1): 486,\n",
              " ('wish', 1): 388,\n",
              " ...}"
            ]
          },
          "metadata": {},
          "execution_count": 22
        }
      ],
      "source": [
        "## Run this cell to get an idea about the corpus of words and their occurrence along with labels. \n",
        "## In this, we are computing the frequency of occurrence of word given that a review is 'positive'.\n",
        "## Similarly, we also compute the frequence of occurence of word given that a review is 'negative'.\n",
        "freqs"
      ]
    },
    {
      "cell_type": "markdown",
      "id": "759c24bc",
      "metadata": {
        "id": "759c24bc"
      },
      "source": [
        "## Q4. Training the Naive Bayes Model: (20 points)\n",
        "\n",
        "Now we are in the training phase of the Naive Bayes algorithm. In this cell, take a look at the ways to calculate the log likelihood and log prior values as these are important for testing in the next few cells. \n",
        "\n",
        "Also calculate the frequency of occurrence of words where the output is negative. In the same way, calculate the word frequency count using the above functions in order to compute the log likelihood.\n",
        "\n",
        "Return the logprior and loglikelihood output by the model from this function. "
      ]
    },
    {
      "cell_type": "code",
      "execution_count": 23,
      "id": "a7f280e3",
      "metadata": {
        "id": "a7f280e3"
      },
      "outputs": [],
      "source": [
        "def train_naive_bayes(freqs, train_x, train_y):\n",
        "    '''\n",
        "    Input:\n",
        "        freqs: dictionary from (word, label) to how often the word appears\n",
        "        train_x: a list of reviews\n",
        "        train_y: a list of labels correponding to the reviews (0,1)\n",
        "    Output:\n",
        "        logprior: the log prior. (equation 3 above)\n",
        "        loglikelihood: the log likelihood of you Naive bayes equation. (equation 6 above)\n",
        "    '''\n",
        "    loglikelihood = {}\n",
        "    logprior = 0\n",
        "\n",
        "\n",
        "    # calculate V, the number of unique words in the vocabulary\n",
        "    vocab = set([pair[0] for pair in freqs.keys()])\n",
        "    V = len(vocab)\n",
        "\n",
        "    # calculate num_pos and num_neg - the total number of positive and negative words for all documents\n",
        "    num_pos = num_neg = 0\n",
        "    for pair in freqs.keys():\n",
        "        # if the label is positive (greater than zero)\n",
        "        if pair[1] == 0:\n",
        "\n",
        "            # Increment the number of positive words by the count for this (word, label) pair\n",
        "            num_pos += freqs[pair]\n",
        "\n",
        "        # else, the label is negative\n",
        "        else:\n",
        "\n",
        "            # increment the number of negative words by the count for this (word,label) pair\n",
        "            num_neg += freqs[pair]\n",
        "\n",
        "\n",
        "    # Calculate num_doc, the number of documents\n",
        "    num_doc = len(train_y)\n",
        "\n",
        "    # Calculate D_pos, the number of positive documents \n",
        "    pos_num_docs = np.sum([train_y==0])\n",
        "\n",
        "    # Calculate D_neg, the number of negative documents \n",
        "    neg_num_docs = num_doc-pos_num_docs\n",
        "\n",
        "    # Calculate logprior\n",
        "    logprior = np.log(neg_num_docs)-np.log(pos_num_docs)\n",
        "\n",
        "    # For each word in the vocabulary...\n",
        "    for word in vocab:\n",
        "        # get the positive and negative frequency of the word\n",
        "        freq_pos = find_occurrence(freqs,word,0)\n",
        "        freq_neg = find_occurrence(freqs,word,1)\n",
        "\n",
        "        # calculate the probability that each word is positive, and negative\n",
        "        p_w_pos = (freq_pos+1)/(num_pos+V)\n",
        "        p_w_neg = (freq_neg+1)/(num_neg+V)\n",
        "\n",
        "        # calculate the log likelihood of the word\n",
        "        loglikelihood[word] = np.log(p_w_neg) - np.log(p_w_pos)\n",
        "\n",
        "\n",
        "    return logprior, loglikelihood"
      ]
    },
    {
      "cell_type": "code",
      "execution_count": 24,
      "id": "1561d892",
      "metadata": {
        "id": "1561d892",
        "colab": {
          "base_uri": "https://localhost:8080/"
        },
        "outputId": "0e00afc2-669f-49fb-c67e-e1c10ff55dcb"
      },
      "outputs": [
        {
          "output_type": "stream",
          "name": "stdout",
          "text": [
            "0.0\n",
            "92197\n"
          ]
        }
      ],
      "source": [
        "# You do not have to input any code in this cell, but it is relevant to grading, so please do not change anything\n",
        "logprior, loglikelihood = train_naive_bayes(freqs, X_train, y_train)\n",
        "print(logprior)\n",
        "print(len(loglikelihood))"
      ]
    },
    {
      "cell_type": "markdown",
      "id": "19d9c882",
      "metadata": {
        "id": "19d9c882"
      },
      "source": [
        "### Expected Output \n",
        "\n",
        "0.0 <br>\n",
        "91425"
      ]
    },
    {
      "cell_type": "markdown",
      "id": "78b51303",
      "metadata": {
        "id": "78b51303"
      },
      "source": [
        "## Q5. Implementing Naive Bayes Predict Function: (10 points)\n",
        "\n",
        "It is now time to make our prediction as to whether a given review is negative or positive respectively. \n",
        "\n",
        "After adding the log likelihood values, ensure that the output is 1 (negative) if the sum of the log likelihood value is greater than 0 and 0 (positive) if the sum of the log likelihood is less than or equal to 0. "
      ]
    },
    {
      "cell_type": "code",
      "execution_count": 25,
      "id": "b692c2f9",
      "metadata": {
        "id": "b692c2f9"
      },
      "outputs": [],
      "source": [
        "# TASK 4 CELL\n",
        "\n",
        "def naive_bayes_predict(review, logprior, loglikelihood):\n",
        "    '''\n",
        "    Params:\n",
        "        review: a string\n",
        "        logprior: a number\n",
        "        loglikelihood: a dictionary of words mapping to numbers\n",
        "    Return:\n",
        "        total_prob: the sum of all the loglikelihoods of each word in the review (if found in the dictionary) + logprior (a number)\n",
        "\n",
        "    '''\n",
        "    \n",
        "      # process the review to get a list of words\n",
        "    cl_rev = clean_review(review)\n",
        "    word_l=cl_rev.split()\n",
        "\n",
        "    # initialize probability to zero\n",
        "    total_prob = 0\n",
        "\n",
        "    # add the logprior\n",
        "    total_prob = total_prob+logprior\n",
        "\n",
        "    for word in word_l:\n",
        "\n",
        "        # check if the word exists in the loglikelihood dictionary\n",
        "        if word in loglikelihood.keys():\n",
        "            # add the log likelihood of that word to the probability\n",
        "            total_prob = total_prob + loglikelihood[word]\n",
        "            \n",
        "    if (total_prob>0):\n",
        "      total_prob=1\n",
        "    else:\n",
        "      total_prob =0\n",
        "\n",
        "\n",
        "    return total_prob"
      ]
    },
    {
      "cell_type": "code",
      "execution_count": 26,
      "id": "4b170333",
      "metadata": {
        "id": "4b170333",
        "colab": {
          "base_uri": "https://localhost:8080/"
        },
        "outputId": "da4d8d1e-dcc9-4c08-e6c2-4f69ecef22ce"
      },
      "outputs": [
        {
          "output_type": "stream",
          "name": "stdout",
          "text": [
            "The expected output is 1\n"
          ]
        }
      ],
      "source": [
        "# You do not have to input any code in this cell, but it is relevant to grading, so please do not change anything\n",
        "\n",
        "# Experiment with your own review.\n",
        "my_review = \"I thought this series was going to be another fun, action series with some dynamic plots and great performances. I was wrong. While I like Jamie Denton, this show is hardly worth watching at all, unless you enjoy watching some people brutalized and the actions of the agents supposedly warranted under the theme of national security. The show is great propaganda for the current government, and spews out jingoism as though we talk that way every day. After a couple of episodes, it was boring the hell out of me, and I started watching reruns of House Invaders on BBCAmerica instead. Rather watch CSI and Without a Trace, without a doubt.\"\n",
        "p = naive_bayes_predict(my_review, logprior, loglikelihood)\n",
        "print('The expected output is', p)"
      ]
    },
    {
      "cell_type": "markdown",
      "id": "6242708f",
      "metadata": {
        "id": "6242708f"
      },
      "source": [
        "### Expected Output :\n",
        "The expected output is 1"
      ]
    },
    {
      "cell_type": "markdown",
      "id": "7c4eeb71",
      "metadata": {
        "id": "7c4eeb71"
      },
      "source": [
        "## Q6. Implementing Naive Bayes Test function: (10 points)\n",
        "\n",
        "In this function, implement the previous functions such as naive_bayes_predict to get the predictions for the test set. \n",
        "\n",
        "In addition to this, the function should return the total number of reviews that it correctly classified as 'positive' or 'negative'. "
      ]
    },
    {
      "cell_type": "code",
      "execution_count": 27,
      "id": "66a511e7",
      "metadata": {
        "id": "66a511e7"
      },
      "outputs": [],
      "source": [
        "# UNQ_C6 (UNIQUE CELL IDENTIFIER, DO NOT EDIT)\n",
        "def test_naive_bayes(test_x, test_y, logprior, loglikelihood):\n",
        "    \"\"\"\n",
        "    Input:\n",
        "        test_x: A list of reviews\n",
        "        test_y: the corresponding labels for the list of reviews\n",
        "        logprior: the logprior\n",
        "        loglikelihood: a dictionary with the loglikelihoods for each word\n",
        "    Output:\n",
        "        accuracy: (# of reviews classified correctly)/(total # of reviews)\n",
        "    \"\"\"\n",
        "    accuracy = 0  \n",
        "\n",
        "    \n",
        "    y_hats =[]\n",
        "    for review in test_x:\n",
        "       \n",
        "        # if the prediction is > 0\n",
        "        if naive_bayes_predict(review, logprior, loglikelihood) > 0:\n",
        "            # the predicted class is 1\n",
        "            y_hat_i = 1\n",
        "        else:\n",
        "            # otherwise the predicted class is 0\n",
        "            y_hat_i = 0\n",
        "        \n",
        "\n",
        "        # append the predicted class to the list y_hats\n",
        "        y_hats.append(y_hat_i) \n",
        "\n",
        "    # error is the average of the absolute values of the differences between y_hats and test_y\n",
        "    error = np.sum([y_hats!=test_y])/len(test_y)\n",
        "\n",
        "    accuracy = 1-error\n",
        "\n",
        "\n",
        "    return accuracy"
      ]
    },
    {
      "cell_type": "code",
      "execution_count": 28,
      "id": "8a9c5d9d",
      "metadata": {
        "id": "8a9c5d9d",
        "colab": {
          "base_uri": "https://localhost:8080/"
        },
        "outputId": "71c8076d-2b92-4e9a-a168-132e20946f05"
      },
      "outputs": [
        {
          "output_type": "stream",
          "name": "stdout",
          "text": [
            "If you like original gut wrenching laughter you will like this movie. If you are young or old then y -> 0.00\n",
            "What a waste of talent. A very poor, semi-coherent, script cripples this film. Rather unimaginative  -> 1.00\n",
            "I have seen this film at least 100 times and I am still excited by it, the acting is perfect and the -> 0.00\n",
            "Cheap, amateurish, unimaginative, exploitative... but don't think it'll have redeeming amusement val -> 1.00\n"
          ]
        }
      ],
      "source": [
        "# For grading purpose only\n",
        "# You do not have to input any code in this cell, but it is relevant to grading, so please do not change anything\n",
        "\n",
        "# Run this cell to test your function\n",
        "\n",
        "for review in [\"If you like original gut wrenching laughter you will like this movie. If you are young or old then you will love this movie, hell even my mom liked it.<br /><br />Great Camp!!!\",\n",
        "                \"What a waste of talent. A very poor, semi-coherent, script cripples this film. Rather unimaginative direction, too. Some VERY faint echoes of Fargo here, but it just doesn't come off.\",\n",
        "                \"I have seen this film at least 100 times and I am still excited by it, the acting is perfect and the romance between Joe and Jean keeps me on the edge of my seat, plus I still think Bryan Brown is the tops. Brilliant Film.\",\n",
        "                \"Cheap, amateurish, unimaginative, exploitative... but don't think it'll have redeeming amusement value. About as unentertaining, uninstructive and just plain dull as a film can be.\"]:\n",
        "    p = naive_bayes_predict(review, logprior, loglikelihood)\n",
        "    print(f'{review[:100]} -> {p:.2f}')\n",
        "    "
      ]
    },
    {
      "cell_type": "markdown",
      "id": "43e2ef98",
      "metadata": {
        "id": "43e2ef98"
      },
      "source": [
        "### Expected Output :\n",
        "\n",
        "If you like original gut wrenching laughter you will like this movie. If you are young or old then y -> 0.00 <br>\n",
        "What a waste of talent. A very poor, semi-coherent, script cripples this film. Rather unimaginative  -> 1.00<br>\n",
        "I have seen this film at least 100 times and I am still excited by it, the acting is perfect and the -> 0.00 <br>\n",
        "Cheap, amateurish, unimaginative, exploitative... but don't think it'll have redeeming amusement val -> 1.00\n",
        "\n"
      ]
    },
    {
      "cell_type": "code",
      "execution_count": 29,
      "id": "216fa97a",
      "metadata": {
        "id": "216fa97a",
        "colab": {
          "base_uri": "https://localhost:8080/"
        },
        "outputId": "f94772e5-a7ab-47fb-e0b3-f6f65e643282"
      },
      "outputs": [
        {
          "output_type": "execute_result",
          "data": {
            "text/plain": [
              "1"
            ]
          },
          "metadata": {},
          "execution_count": 29
        }
      ],
      "source": [
        "# Feel free to check the sentiment of your own review below\n",
        "my_review = 'The moview was very boring, I wanted to leave in the middle'\n",
        "naive_bayes_predict(my_review, logprior, loglikelihood)"
      ]
    },
    {
      "cell_type": "markdown",
      "id": "8a45e4f0",
      "metadata": {
        "id": "8a45e4f0"
      },
      "source": [
        "### Expected Output :\n",
        "1"
      ]
    },
    {
      "cell_type": "code",
      "source": [
        "test_naive_bayes(X_test, y_test, logprior, loglikelihood)"
      ],
      "metadata": {
        "colab": {
          "base_uri": "https://localhost:8080/"
        },
        "id": "CsipWJVZ9yPR",
        "outputId": "174448d4-df58-4710-ebbf-98fa67473f18"
      },
      "id": "CsipWJVZ9yPR",
      "execution_count": 30,
      "outputs": [
        {
          "output_type": "execute_result",
          "data": {
            "text/plain": [
              "0.8876313662085691"
            ]
          },
          "metadata": {},
          "execution_count": 30
        }
      ]
    },
    {
      "cell_type": "markdown",
      "source": [
        "# Q7. Evaluate the accuracy (10 Points)\n",
        "1. Split your data into training and test sets using random selection. Set the seed as parameter of the function so that user can select a different training and test set by changin seed.\n",
        "\n",
        "2. Calculate model paramters with training set.\n",
        "\n",
        "3. Print confusion matrix for training and test set.\n",
        "\n",
        "4. Examine False Positive and False Negative cases and provide reasoning why they get misclassified."
      ],
      "metadata": {
        "id": "mAIkM4aCC1H7"
      },
      "id": "mAIkM4aCC1H7"
    },
    {
      "cell_type": "code",
      "source": [
        "df_upsampled['sentiment'][df_upsampled['sentiment']=='positive']=0\n",
        "df_upsampled['sentiment'][df_upsampled['sentiment']=='negative']=1\n",
        "df_upsampled"
      ],
      "metadata": {
        "id": "bSzaUudNhyP-",
        "colab": {
          "base_uri": "https://localhost:8080/",
          "height": 423
        },
        "outputId": "ecf11b9d-9af8-4409-fd6e-0a22a9223d51"
      },
      "id": "bSzaUudNhyP-",
      "execution_count": 31,
      "outputs": [
        {
          "output_type": "execute_result",
          "data": {
            "text/plain": [
              "                                                  review sentiment\n",
              "24671  If there's one thing I want to distinguish mys...         1\n",
              "17930  I wasted enough time actually WATCHING this ch...         1\n",
              "20786  For that matter one of the worst FILMS ever ma...         1\n",
              "6520   Am I the only one to notice that the \"realism\"...         1\n",
              "12606  The writers probably had no experience in the ...         1\n",
              "...                                                  ...       ...\n",
              "12077  I saw this movie, just now, not when it was re...         1\n",
              "10205  This show probably won't appeal to everyone. S...         0\n",
              "21890  I really didn't have high expectations and I m...         1\n",
              "21152  This is a great movie, I did the play a while ...         0\n",
              "3747   wow...this has got to be the DUMBEST movie I'v...         1\n",
              "\n",
              "[24948 rows x 2 columns]"
            ],
            "text/html": [
              "\n",
              "  <div id=\"df-653f1a25-6522-4685-941d-cb4c5d4e2b35\">\n",
              "    <div class=\"colab-df-container\">\n",
              "      <div>\n",
              "<style scoped>\n",
              "    .dataframe tbody tr th:only-of-type {\n",
              "        vertical-align: middle;\n",
              "    }\n",
              "\n",
              "    .dataframe tbody tr th {\n",
              "        vertical-align: top;\n",
              "    }\n",
              "\n",
              "    .dataframe thead th {\n",
              "        text-align: right;\n",
              "    }\n",
              "</style>\n",
              "<table border=\"1\" class=\"dataframe\">\n",
              "  <thead>\n",
              "    <tr style=\"text-align: right;\">\n",
              "      <th></th>\n",
              "      <th>review</th>\n",
              "      <th>sentiment</th>\n",
              "    </tr>\n",
              "  </thead>\n",
              "  <tbody>\n",
              "    <tr>\n",
              "      <th>24671</th>\n",
              "      <td>If there's one thing I want to distinguish mys...</td>\n",
              "      <td>1</td>\n",
              "    </tr>\n",
              "    <tr>\n",
              "      <th>17930</th>\n",
              "      <td>I wasted enough time actually WATCHING this ch...</td>\n",
              "      <td>1</td>\n",
              "    </tr>\n",
              "    <tr>\n",
              "      <th>20786</th>\n",
              "      <td>For that matter one of the worst FILMS ever ma...</td>\n",
              "      <td>1</td>\n",
              "    </tr>\n",
              "    <tr>\n",
              "      <th>6520</th>\n",
              "      <td>Am I the only one to notice that the \"realism\"...</td>\n",
              "      <td>1</td>\n",
              "    </tr>\n",
              "    <tr>\n",
              "      <th>12606</th>\n",
              "      <td>The writers probably had no experience in the ...</td>\n",
              "      <td>1</td>\n",
              "    </tr>\n",
              "    <tr>\n",
              "      <th>...</th>\n",
              "      <td>...</td>\n",
              "      <td>...</td>\n",
              "    </tr>\n",
              "    <tr>\n",
              "      <th>12077</th>\n",
              "      <td>I saw this movie, just now, not when it was re...</td>\n",
              "      <td>1</td>\n",
              "    </tr>\n",
              "    <tr>\n",
              "      <th>10205</th>\n",
              "      <td>This show probably won't appeal to everyone. S...</td>\n",
              "      <td>0</td>\n",
              "    </tr>\n",
              "    <tr>\n",
              "      <th>21890</th>\n",
              "      <td>I really didn't have high expectations and I m...</td>\n",
              "      <td>1</td>\n",
              "    </tr>\n",
              "    <tr>\n",
              "      <th>21152</th>\n",
              "      <td>This is a great movie, I did the play a while ...</td>\n",
              "      <td>0</td>\n",
              "    </tr>\n",
              "    <tr>\n",
              "      <th>3747</th>\n",
              "      <td>wow...this has got to be the DUMBEST movie I'v...</td>\n",
              "      <td>1</td>\n",
              "    </tr>\n",
              "  </tbody>\n",
              "</table>\n",
              "<p>24948 rows × 2 columns</p>\n",
              "</div>\n",
              "      <button class=\"colab-df-convert\" onclick=\"convertToInteractive('df-653f1a25-6522-4685-941d-cb4c5d4e2b35')\"\n",
              "              title=\"Convert this dataframe to an interactive table.\"\n",
              "              style=\"display:none;\">\n",
              "        \n",
              "  <svg xmlns=\"http://www.w3.org/2000/svg\" height=\"24px\"viewBox=\"0 0 24 24\"\n",
              "       width=\"24px\">\n",
              "    <path d=\"M0 0h24v24H0V0z\" fill=\"none\"/>\n",
              "    <path d=\"M18.56 5.44l.94 2.06.94-2.06 2.06-.94-2.06-.94-.94-2.06-.94 2.06-2.06.94zm-11 1L8.5 8.5l.94-2.06 2.06-.94-2.06-.94L8.5 2.5l-.94 2.06-2.06.94zm10 10l.94 2.06.94-2.06 2.06-.94-2.06-.94-.94-2.06-.94 2.06-2.06.94z\"/><path d=\"M17.41 7.96l-1.37-1.37c-.4-.4-.92-.59-1.43-.59-.52 0-1.04.2-1.43.59L10.3 9.45l-7.72 7.72c-.78.78-.78 2.05 0 2.83L4 21.41c.39.39.9.59 1.41.59.51 0 1.02-.2 1.41-.59l7.78-7.78 2.81-2.81c.8-.78.8-2.07 0-2.86zM5.41 20L4 18.59l7.72-7.72 1.47 1.35L5.41 20z\"/>\n",
              "  </svg>\n",
              "      </button>\n",
              "      \n",
              "  <style>\n",
              "    .colab-df-container {\n",
              "      display:flex;\n",
              "      flex-wrap:wrap;\n",
              "      gap: 12px;\n",
              "    }\n",
              "\n",
              "    .colab-df-convert {\n",
              "      background-color: #E8F0FE;\n",
              "      border: none;\n",
              "      border-radius: 50%;\n",
              "      cursor: pointer;\n",
              "      display: none;\n",
              "      fill: #1967D2;\n",
              "      height: 32px;\n",
              "      padding: 0 0 0 0;\n",
              "      width: 32px;\n",
              "    }\n",
              "\n",
              "    .colab-df-convert:hover {\n",
              "      background-color: #E2EBFA;\n",
              "      box-shadow: 0px 1px 2px rgba(60, 64, 67, 0.3), 0px 1px 3px 1px rgba(60, 64, 67, 0.15);\n",
              "      fill: #174EA6;\n",
              "    }\n",
              "\n",
              "    [theme=dark] .colab-df-convert {\n",
              "      background-color: #3B4455;\n",
              "      fill: #D2E3FC;\n",
              "    }\n",
              "\n",
              "    [theme=dark] .colab-df-convert:hover {\n",
              "      background-color: #434B5C;\n",
              "      box-shadow: 0px 1px 3px 1px rgba(0, 0, 0, 0.15);\n",
              "      filter: drop-shadow(0px 1px 2px rgba(0, 0, 0, 0.3));\n",
              "      fill: #FFFFFF;\n",
              "    }\n",
              "  </style>\n",
              "\n",
              "      <script>\n",
              "        const buttonEl =\n",
              "          document.querySelector('#df-653f1a25-6522-4685-941d-cb4c5d4e2b35 button.colab-df-convert');\n",
              "        buttonEl.style.display =\n",
              "          google.colab.kernel.accessAllowed ? 'block' : 'none';\n",
              "\n",
              "        async function convertToInteractive(key) {\n",
              "          const element = document.querySelector('#df-653f1a25-6522-4685-941d-cb4c5d4e2b35');\n",
              "          const dataTable =\n",
              "            await google.colab.kernel.invokeFunction('convertToInteractive',\n",
              "                                                     [key], {});\n",
              "          if (!dataTable) return;\n",
              "\n",
              "          const docLinkHtml = 'Like what you see? Visit the ' +\n",
              "            '<a target=\"_blank\" href=https://colab.research.google.com/notebooks/data_table.ipynb>data table notebook</a>'\n",
              "            + ' to learn more about interactive tables.';\n",
              "          element.innerHTML = '';\n",
              "          dataTable['output_type'] = 'display_data';\n",
              "          await google.colab.output.renderOutput(dataTable, element);\n",
              "          const docLink = document.createElement('div');\n",
              "          docLink.innerHTML = docLinkHtml;\n",
              "          element.appendChild(docLink);\n",
              "        }\n",
              "      </script>\n",
              "    </div>\n",
              "  </div>\n",
              "  "
            ]
          },
          "metadata": {},
          "execution_count": 31
        }
      ]
    },
    {
      "cell_type": "code",
      "source": [
        "X=df_upsampled['review']\n",
        "Y=df_upsampled['sentiment']"
      ],
      "metadata": {
        "id": "14Y40lHIL9Mr"
      },
      "id": "14Y40lHIL9Mr",
      "execution_count": 32,
      "outputs": []
    },
    {
      "cell_type": "code",
      "source": [
        "from sklearn.model_selection import train_test_split\n",
        "X_train1, X_test1, y_train1, y_test1 = train_test_split(  X, Y, test_size=0.33, random_state=42)"
      ],
      "metadata": {
        "id": "R4nBdZPbLopU"
      },
      "id": "R4nBdZPbLopU",
      "execution_count": 33,
      "outputs": []
    },
    {
      "cell_type": "code",
      "source": [
        "freqs1 = review_counter({}, X_train1, y_train1)"
      ],
      "metadata": {
        "id": "8SZwbHCEe_J5"
      },
      "id": "8SZwbHCEe_J5",
      "execution_count": 34,
      "outputs": []
    },
    {
      "cell_type": "code",
      "source": [
        "logprior1, loglikelihood1 = train_naive_bayes(freqs1, X_train1, y_train1)\n",
        "print(logprior1)\n",
        "print(len(loglikelihood1))"
      ],
      "metadata": {
        "colab": {
          "base_uri": "https://localhost:8080/"
        },
        "id": "W3Tbz4WVMOVQ",
        "outputId": "f6545362-0552-4483-a1b2-3ae8725c9273"
      },
      "id": "W3Tbz4WVMOVQ",
      "execution_count": 35,
      "outputs": [
        {
          "output_type": "stream",
          "name": "stdout",
          "text": [
            "0.008734724993106013\n",
            "84359\n"
          ]
        }
      ]
    },
    {
      "cell_type": "code",
      "source": [
        "test_naive_bayes(X_test1, y_test1, logprior1, loglikelihood1)"
      ],
      "metadata": {
        "colab": {
          "base_uri": "https://localhost:8080/"
        },
        "id": "9b8MAoI9MgBv",
        "outputId": "df37d349-d489-4a01-a83a-7cbd7136dcf7"
      },
      "id": "9b8MAoI9MgBv",
      "execution_count": 36,
      "outputs": [
        {
          "output_type": "execute_result",
          "data": {
            "text/plain": [
              "0.8727073970606097"
            ]
          },
          "metadata": {},
          "execution_count": 36
        }
      ]
    },
    {
      "cell_type": "code",
      "source": [
        "Y_train_pred=[]\n",
        "for review in X_train1:\n",
        "  val=naive_bayes_predict(review, logprior1, loglikelihood1)\n",
        "  Y_train_pred.append(val)\n"
      ],
      "metadata": {
        "id": "_AOKLNDmMzoy"
      },
      "id": "_AOKLNDmMzoy",
      "execution_count": 37,
      "outputs": []
    },
    {
      "cell_type": "code",
      "source": [
        "type(Y_train_pred[0])"
      ],
      "metadata": {
        "colab": {
          "base_uri": "https://localhost:8080/"
        },
        "id": "D8r8-wJ_SJy9",
        "outputId": "d369c099-0ac1-42e0-d784-5fdda386cd5d"
      },
      "id": "D8r8-wJ_SJy9",
      "execution_count": 38,
      "outputs": [
        {
          "output_type": "execute_result",
          "data": {
            "text/plain": [
              "int"
            ]
          },
          "metadata": {},
          "execution_count": 38
        }
      ]
    },
    {
      "cell_type": "code",
      "source": [
        "y_train1.dtype"
      ],
      "metadata": {
        "colab": {
          "base_uri": "https://localhost:8080/"
        },
        "id": "r3R8h7GnSMnN",
        "outputId": "fc6505d6-c712-422f-a7c1-b8e5ec72880c"
      },
      "id": "r3R8h7GnSMnN",
      "execution_count": 39,
      "outputs": [
        {
          "output_type": "execute_result",
          "data": {
            "text/plain": [
              "dtype('O')"
            ]
          },
          "metadata": {},
          "execution_count": 39
        }
      ]
    },
    {
      "cell_type": "code",
      "source": [
        "y_train_c=y_train1.astype('int64')"
      ],
      "metadata": {
        "id": "7RTSeww1S6YZ"
      },
      "id": "7RTSeww1S6YZ",
      "execution_count": 40,
      "outputs": []
    },
    {
      "cell_type": "code",
      "source": [
        "from sklearn.metrics import confusion_matrix\n",
        "confusion_matrix(y_train_c,Y_train_pred)"
      ],
      "metadata": {
        "colab": {
          "base_uri": "https://localhost:8080/"
        },
        "id": "l8D48-HCRYF3",
        "outputId": "c2b60e44-2d86-43d6-ea42-7f32a18e6125"
      },
      "id": "l8D48-HCRYF3",
      "execution_count": 41,
      "outputs": [
        {
          "output_type": "execute_result",
          "data": {
            "text/plain": [
              "array([[7674,  647],\n",
              "       [ 276, 8118]])"
            ]
          },
          "metadata": {},
          "execution_count": 41
        }
      ]
    },
    {
      "cell_type": "code",
      "source": [
        "Y_test_pred=[]\n",
        "for review in X_test1:\n",
        "  val=naive_bayes_predict(review, logprior1, loglikelihood1)\n",
        "  Y_test_pred.append(val)"
      ],
      "metadata": {
        "id": "qLcwtA-wTToQ"
      },
      "id": "qLcwtA-wTToQ",
      "execution_count": 42,
      "outputs": []
    },
    {
      "cell_type": "code",
      "source": [
        "y_test_c=y_test1.astype('int64')"
      ],
      "metadata": {
        "id": "I2W81rflTcaw"
      },
      "id": "I2W81rflTcaw",
      "execution_count": 43,
      "outputs": []
    },
    {
      "cell_type": "code",
      "source": [
        "confusion_matrix(y_test_c,Y_test_pred)"
      ],
      "metadata": {
        "colab": {
          "base_uri": "https://localhost:8080/"
        },
        "id": "Ja0PtJUZThi7",
        "outputId": "28d6bd75-c94c-4196-a139-58650a742ec0"
      },
      "id": "Ja0PtJUZThi7",
      "execution_count": 44,
      "outputs": [
        {
          "output_type": "execute_result",
          "data": {
            "text/plain": [
              "array([[3493,  660],\n",
              "       [ 388, 3692]])"
            ]
          },
          "metadata": {},
          "execution_count": 44
        }
      ]
    },
    {
      "cell_type": "code",
      "source": [
        "import matplotlib.pyplot as plt\n",
        "\n",
        "con=confusion_matrix(y_test_c,Y_test_pred)\n",
        "fig, ax = plt.subplots(figsize=(7.5, 7.5))\n",
        "ax.matshow(con, cmap=plt.cm.Blues, alpha=0.3)\n",
        "for i in range(con.shape[0]):\n",
        "    for j in range(con.shape[1]):\n",
        "        ax.text(x=j, y=i,s=con[i, j], va='center', ha='center', size='xx-large')\n",
        " \n",
        "plt.xlabel('Predictions', fontsize=18)\n",
        "plt.ylabel('Actuals', fontsize=18)\n",
        "plt.title('Confusion Matrix', fontsize=18)\n",
        "plt.show()"
      ],
      "metadata": {
        "colab": {
          "base_uri": "https://localhost:8080/",
          "height": 501
        },
        "id": "NWj8VbU8Hmts",
        "outputId": "a999ca72-2d8b-4427-8ace-a2054e20138c"
      },
      "id": "NWj8VbU8Hmts",
      "execution_count": 45,
      "outputs": [
        {
          "output_type": "display_data",
          "data": {
            "text/plain": [
              "<Figure size 540x540 with 1 Axes>"
            ],
            "image/png": "[encoded data removed]"
          },
          "metadata": {
            "needs_background": "light"
          }
        }
      ]
    },
    {
      "cell_type": "markdown",
      "source": [
        "As per the confusion matrix, the number of positive reviews that are misclassified as negative reviews are more. On examining the freqs dictionary, it was found that certain words are repeated more number of times in negative reviews than positive reviews though they are present in both reviews. Also, the number of words in negative reviews are more than the positve words. This is a reasonable explanation for the missclassification.\n",
        "\n",
        "Also for missclasification of positive to negative review and negative to positive review, the margin of log probability is close due to the variations in occurence of words in both kind of reviews."
      ],
      "metadata": {
        "id": "nWPjA0J-IipA"
      },
      "id": "nWPjA0J-IipA"
    },
    {
      "cell_type": "markdown",
      "source": [
        "# Q8. Modularize your calssifier (10 points)\n",
        "1. Convert your code into a python module text_classifier.py\n",
        "\n",
        "2. The user should be able to launch the application on command prompt using python test_classifier.py command. The module will automatically load the model paramters from a local file of your choice and be ready to take the input from user on command prompt. The program will preprocess user input, tokenize and predict the class.\n",
        "\n",
        "3. Your module will take the input from user and output sentiment class in an indefinite loop. The output should printout the probabilities for each input token along with the final classification decision. Program will quit if user enters X.\n"
      ],
      "metadata": {
        "id": "XbzttYVnBo7W"
      },
      "id": "XbzttYVnBo7W"
    },
    {
      "cell_type": "code",
      "source": [
        "param_df=pd.DataFrame({'Parameter':['LogPrior'],'Values':[logprior]})\n",
        "key_vals=[]\n",
        "prob_vals=[]\n",
        "for key in loglikelihood:\n",
        "  key_vals.append(key)\n",
        "  prob_vals.append(loglikelihood[key])\n",
        "\n",
        "dummy_df=pd.DataFrame({'Parameter':key_vals,'Values':prob_vals})\n",
        "param_df=param_df.append(dummy_df,ignore_index=True)\n",
        "param_df"
      ],
      "metadata": {
        "id": "lKAQrnnbBnKe",
        "colab": {
          "base_uri": "https://localhost:8080/",
          "height": 423
        },
        "outputId": "fccd12ae-2a61-43b6-e17b-e47c8ddca6d6"
      },
      "id": "lKAQrnnbBnKe",
      "execution_count": 46,
      "outputs": [
        {
          "output_type": "execute_result",
          "data": {
            "text/plain": [
              "           Parameter    Values\n",
              "0           LogPrior  0.000000\n",
              "1      superficially  0.934159\n",
              "2              taket  1.116480\n",
              "3             frider -0.675279\n",
              "4            planner -0.205275\n",
              "...              ...       ...\n",
              "92193     graduating -1.773891\n",
              "92194       hommages -0.675279\n",
              "92195      agreeably  0.017868\n",
              "92196   frenchgerman -0.675279\n",
              "92197     floudering  0.711015\n",
              "\n",
              "[92198 rows x 2 columns]"
            ],
            "text/html": [
              "\n",
              "  <div id=\"df-6a2be466-734f-4636-8cd3-edf0d5d2fffd\">\n",
              "    <div class=\"colab-df-container\">\n",
              "      <div>\n",
              "<style scoped>\n",
              "    .dataframe tbody tr th:only-of-type {\n",
              "        vertical-align: middle;\n",
              "    }\n",
              "\n",
              "    .dataframe tbody tr th {\n",
              "        vertical-align: top;\n",
              "    }\n",
              "\n",
              "    .dataframe thead th {\n",
              "        text-align: right;\n",
              "    }\n",
              "</style>\n",
              "<table border=\"1\" class=\"dataframe\">\n",
              "  <thead>\n",
              "    <tr style=\"text-align: right;\">\n",
              "      <th></th>\n",
              "      <th>Parameter</th>\n",
              "      <th>Values</th>\n",
              "    </tr>\n",
              "  </thead>\n",
              "  <tbody>\n",
              "    <tr>\n",
              "      <th>0</th>\n",
              "      <td>LogPrior</td>\n",
              "      <td>0.000000</td>\n",
              "    </tr>\n",
              "    <tr>\n",
              "      <th>1</th>\n",
              "      <td>superficially</td>\n",
              "      <td>0.934159</td>\n",
              "    </tr>\n",
              "    <tr>\n",
              "      <th>2</th>\n",
              "      <td>taket</td>\n",
              "      <td>1.116480</td>\n",
              "    </tr>\n",
              "    <tr>\n",
              "      <th>3</th>\n",
              "      <td>frider</td>\n",
              "      <td>-0.675279</td>\n",
              "    </tr>\n",
              "    <tr>\n",
              "      <th>4</th>\n",
              "      <td>planner</td>\n",
              "      <td>-0.205275</td>\n",
              "    </tr>\n",
              "    <tr>\n",
              "      <th>...</th>\n",
              "      <td>...</td>\n",
              "      <td>...</td>\n",
              "    </tr>\n",
              "    <tr>\n",
              "      <th>92193</th>\n",
              "      <td>graduating</td>\n",
              "      <td>-1.773891</td>\n",
              "    </tr>\n",
              "    <tr>\n",
              "      <th>92194</th>\n",
              "      <td>hommages</td>\n",
              "      <td>-0.675279</td>\n",
              "    </tr>\n",
              "    <tr>\n",
              "      <th>92195</th>\n",
              "      <td>agreeably</td>\n",
              "      <td>0.017868</td>\n",
              "    </tr>\n",
              "    <tr>\n",
              "      <th>92196</th>\n",
              "      <td>frenchgerman</td>\n",
              "      <td>-0.675279</td>\n",
              "    </tr>\n",
              "    <tr>\n",
              "      <th>92197</th>\n",
              "      <td>floudering</td>\n",
              "      <td>0.711015</td>\n",
              "    </tr>\n",
              "  </tbody>\n",
              "</table>\n",
              "<p>92198 rows × 2 columns</p>\n",
              "</div>\n",
              "      <button class=\"colab-df-convert\" onclick=\"convertToInteractive('df-6a2be466-734f-4636-8cd3-edf0d5d2fffd')\"\n",
              "              title=\"Convert this dataframe to an interactive table.\"\n",
              "              style=\"display:none;\">\n",
              "        \n",
              "  <svg xmlns=\"http://www.w3.org/2000/svg\" height=\"24px\"viewBox=\"0 0 24 24\"\n",
              "       width=\"24px\">\n",
              "    <path d=\"M0 0h24v24H0V0z\" fill=\"none\"/>\n",
              "    <path d=\"M18.56 5.44l.94 2.06.94-2.06 2.06-.94-2.06-.94-.94-2.06-.94 2.06-2.06.94zm-11 1L8.5 8.5l.94-2.06 2.06-.94-2.06-.94L8.5 2.5l-.94 2.06-2.06.94zm10 10l.94 2.06.94-2.06 2.06-.94-2.06-.94-.94-2.06-.94 2.06-2.06.94z\"/><path d=\"M17.41 7.96l-1.37-1.37c-.4-.4-.92-.59-1.43-.59-.52 0-1.04.2-1.43.59L10.3 9.45l-7.72 7.72c-.78.78-.78 2.05 0 2.83L4 21.41c.39.39.9.59 1.41.59.51 0 1.02-.2 1.41-.59l7.78-7.78 2.81-2.81c.8-.78.8-2.07 0-2.86zM5.41 20L4 18.59l7.72-7.72 1.47 1.35L5.41 20z\"/>\n",
              "  </svg>\n",
              "      </button>\n",
              "      \n",
              "  <style>\n",
              "    .colab-df-container {\n",
              "      display:flex;\n",
              "      flex-wrap:wrap;\n",
              "      gap: 12px;\n",
              "    }\n",
              "\n",
              "    .colab-df-convert {\n",
              "      background-color: #E8F0FE;\n",
              "      border: none;\n",
              "      border-radius: 50%;\n",
              "      cursor: pointer;\n",
              "      display: none;\n",
              "      fill: #1967D2;\n",
              "      height: 32px;\n",
              "      padding: 0 0 0 0;\n",
              "      width: 32px;\n",
              "    }\n",
              "\n",
              "    .colab-df-convert:hover {\n",
              "      background-color: #E2EBFA;\n",
              "      box-shadow: 0px 1px 2px rgba(60, 64, 67, 0.3), 0px 1px 3px 1px rgba(60, 64, 67, 0.15);\n",
              "      fill: #174EA6;\n",
              "    }\n",
              "\n",
              "    [theme=dark] .colab-df-convert {\n",
              "      background-color: #3B4455;\n",
              "      fill: #D2E3FC;\n",
              "    }\n",
              "\n",
              "    [theme=dark] .colab-df-convert:hover {\n",
              "      background-color: #434B5C;\n",
              "      box-shadow: 0px 1px 3px 1px rgba(0, 0, 0, 0.15);\n",
              "      filter: drop-shadow(0px 1px 2px rgba(0, 0, 0, 0.3));\n",
              "      fill: #FFFFFF;\n",
              "    }\n",
              "  </style>\n",
              "\n",
              "      <script>\n",
              "        const buttonEl =\n",
              "          document.querySelector('#df-6a2be466-734f-4636-8cd3-edf0d5d2fffd button.colab-df-convert');\n",
              "        buttonEl.style.display =\n",
              "          google.colab.kernel.accessAllowed ? 'block' : 'none';\n",
              "\n",
              "        async function convertToInteractive(key) {\n",
              "          const element = document.querySelector('#df-6a2be466-734f-4636-8cd3-edf0d5d2fffd');\n",
              "          const dataTable =\n",
              "            await google.colab.kernel.invokeFunction('convertToInteractive',\n",
              "                                                     [key], {});\n",
              "          if (!dataTable) return;\n",
              "\n",
              "          const docLinkHtml = 'Like what you see? Visit the ' +\n",
              "            '<a target=\"_blank\" href=https://colab.research.google.com/notebooks/data_table.ipynb>data table notebook</a>'\n",
              "            + ' to learn more about interactive tables.';\n",
              "          element.innerHTML = '';\n",
              "          dataTable['output_type'] = 'display_data';\n",
              "          await google.colab.output.renderOutput(dataTable, element);\n",
              "          const docLink = document.createElement('div');\n",
              "          docLink.innerHTML = docLinkHtml;\n",
              "          element.appendChild(docLink);\n",
              "        }\n",
              "      </script>\n",
              "    </div>\n",
              "  </div>\n",
              "  "
            ]
          },
          "metadata": {},
          "execution_count": 46
        }
      ]
    },
    {
      "cell_type": "code",
      "source": [
        "param_df.to_csv ('export_dataframe.csv', index = False, header=True)\n"
      ],
      "metadata": {
        "id": "HrA9nT57Z0F1"
      },
      "id": "HrA9nT57Z0F1",
      "execution_count": 47,
      "outputs": []
    },
    {
      "cell_type": "markdown",
      "id": "82e6e4d1",
      "metadata": {
        "id": "82e6e4d1"
      },
      "source": [
        "# Q9. Theory Questions: (10 points)\n",
        "\n",
        "1. Why is Laplace Smoothing or Additive Smoothing required while executing Naive Bayes operations, especially for text classification? Show how not having additive smoothing leads to bad outcomes by using an example of training and the test set. (10 points)\n",
        "\n",
        "\n",
        "2. Why are logarithmic values computed instead of only probability values in the Naive Bayes algorithm? (5 points)"
      ]
    },
    {
      "cell_type": "markdown",
      "source": [
        "1. Laplace smoothing or additive smoothing is required to be applied to Naive Bayes operations to address the issue of zero probability.\n",
        "\n",
        "If a specific word or feature is missing in one of the classes, it frequency based probability estimate would be calculated to be zero.\n",
        "\n",
        "This will make class posterior probability to be zero, when individual feature probabilites are multiplied. To avoid this laplace smoothing is applied."
      ],
      "metadata": {
        "id": "WAWtFCjEBFgz"
      },
      "id": "WAWtFCjEBFgz"
    },
    {
      "cell_type": "code",
      "source": [
        "def train_naive_bayes_sample(freqs, train_x, train_y):\n",
        "    '''\n",
        "    Input:\n",
        "        freqs: dictionary from (word, label) to how often the word appears\n",
        "        train_x: a list of reviews\n",
        "        train_y: a list of labels correponding to the reviews (0,1)\n",
        "    Output:\n",
        "        logprior: the log prior. (equation 3 above)\n",
        "        loglikelihood: the log likelihood of you Naive bayes equation. (equation 6 above)\n",
        "    '''\n",
        "    loglikelihood = {}\n",
        "    logprior = 0\n",
        "\n",
        "\n",
        "    # calculate V, the number of unique words in the vocabulary\n",
        "    vocab = set([pair[0] for pair in freqs.keys()])\n",
        "    V = len(vocab)\n",
        "\n",
        "    # calculate num_pos and num_neg - the total number of positive and negative words for all documents\n",
        "    num_pos = num_neg = 0\n",
        "    for pair in freqs.keys():\n",
        "        # if the label is positive (greater than zero)\n",
        "        if pair[1] == 0:\n",
        "\n",
        "            # Increment the number of positive words by the count for this (word, label) pair\n",
        "            num_pos += freqs[pair]\n",
        "\n",
        "        # else, the label is negative\n",
        "        else:\n",
        "\n",
        "            # increment the number of negative words by the count for this (word,label) pair\n",
        "            num_neg += freqs[pair]\n",
        "\n",
        "\n",
        "    # Calculate num_doc, the number of documents\n",
        "    num_doc = len(train_y)\n",
        "\n",
        "    # Calculate D_pos, the number of positive documents \n",
        "    pos_num_docs = np.sum([train_y==0])\n",
        "\n",
        "    # Calculate D_neg, the number of negative documents \n",
        "    neg_num_docs = num_doc-pos_num_docs\n",
        "\n",
        "    # Calculate logprior\n",
        "    logprior = np.log(neg_num_docs)-np.log(pos_num_docs)\n",
        "\n",
        "    # For each word in the vocabulary...\n",
        "    for word in vocab:\n",
        "        # get the positive and negative frequency of the word\n",
        "        freq_pos = find_occurrence(freqs,word,0)\n",
        "        freq_neg = find_occurrence(freqs,word,1)\n",
        "\n",
        "        # calculate the probability that each word is positive, and negative\n",
        "        p_w_pos = (freq_pos)/(V)\n",
        "        p_w_neg = (freq_neg)/(V)\n",
        "        #Laplace smoothing is removed here, just the probability is calculated by dividing the frequency of the word and total number of words in each class. \n",
        "        #This will result in computing of 'log 0' for a word that's not present in our vocabulary\n",
        "\n",
        "        # calculate the log likelihood of the word\n",
        "        loglikelihood[word] = np.log(p_w_neg) - np.log(p_w_pos)\n",
        "\n",
        "\n",
        "    return logprior, loglikelihood"
      ],
      "metadata": {
        "id": "HamIZAtlyLjv"
      },
      "id": "HamIZAtlyLjv",
      "execution_count": 48,
      "outputs": []
    },
    {
      "cell_type": "code",
      "source": [
        "logprior2, loglikelihood2 = train_naive_bayes_sample(freqs, X_train, y_train)\n",
        "print(logprior2)\n",
        "print(len(loglikelihood2))"
      ],
      "metadata": {
        "id": "TNM5jFM0yzks",
        "colab": {
          "base_uri": "https://localhost:8080/"
        },
        "outputId": "e33976a9-1569-40bf-ad5d-44d2f76c1c70"
      },
      "id": "TNM5jFM0yzks",
      "execution_count": 49,
      "outputs": [
        {
          "output_type": "stream",
          "name": "stdout",
          "text": [
            "0.0\n",
            "92197\n"
          ]
        }
      ]
    },
    {
      "cell_type": "code",
      "source": [
        "def naive_bayes_predict_sample(review, logprior, loglikelihood):\n",
        "    '''\n",
        "    Params:\n",
        "        review: a string\n",
        "        logprior: a number\n",
        "        loglikelihood: a dictionary of words mapping to numbers\n",
        "    Return:\n",
        "        total_prob: the sum of all the loglikelihoods of each word in the review (if found in the dictionary) + logprior (a number)\n",
        "\n",
        "    '''\n",
        "    \n",
        "      # process the review to get a list of words\n",
        "    cl_rev = clean_review(review)\n",
        "    word_l=cl_rev.split()\n",
        "\n",
        "    # initialize probability to zero\n",
        "    total_prob = 0\n",
        "\n",
        "    # add the logprior\n",
        "    total_prob = total_prob+logprior\n",
        "\n",
        "    for word in word_l:\n",
        "\n",
        "        # check if the word exists in the loglikelihood dictionary\n",
        "        if word in loglikelihood.keys():\n",
        "            # add the log likelihood of that word to the probability\n",
        "            total_prob = total_prob + loglikelihood[word]\n",
        "            \n",
        "    \n",
        "\n",
        "\n",
        "    return total_prob"
      ],
      "metadata": {
        "id": "QcV0vJEizLZZ"
      },
      "id": "QcV0vJEizLZZ",
      "execution_count": 50,
      "outputs": []
    },
    {
      "cell_type": "code",
      "source": [
        "mock_re='earsplitting audio but the movie is a great investement for drama. The plot has been carefully driven. audience would love the thrills.'\n",
        "p = naive_bayes_predict_sample(mock_re, logprior2, loglikelihood2)\n",
        "\n",
        "print('The expected output is', p)"
      ],
      "metadata": {
        "id": "7yuySFZJzuVZ",
        "colab": {
          "base_uri": "https://localhost:8080/"
        },
        "outputId": "d9927ded-1841-4a94-92c2-647c3a62dc6b"
      },
      "id": "7yuySFZJzuVZ",
      "execution_count": 51,
      "outputs": [
        {
          "output_type": "stream",
          "name": "stdout",
          "text": [
            "The expected output is inf\n"
          ]
        }
      ]
    },
    {
      "cell_type": "markdown",
      "source": [
        "The word 'earsplitting' is present only in a negative review in the dataset. So as we are not using laplace smoothing, the frequency for positive occurence would be zero, thereby resulting in -inf value. As per our formula to calculate loglikelihood for a given word, the log likelihood for 'earsplitting' would become 'inf'. Thereby, for an occurence of the word in any test input, the total probability will become infinity classifying the occurence as negative review all the time though it appears in positive review any time."
      ],
      "metadata": {
        "id": "jRKzHLLt_ptK"
      },
      "id": "jRKzHLLt_ptK"
    },
    {
      "cell_type": "code",
      "source": [
        ""
      ],
      "metadata": {
        "id": "UccOd1ZxCSjr"
      },
      "id": "UccOd1ZxCSjr",
      "execution_count": 51,
      "outputs": []
    },
    {
      "cell_type": "markdown",
      "source": [
        "2.\n",
        "The range of log probabilites is wide as log values range from -inf to 0.\n",
        "\n",
        "Calculation is computationally inexpensive when log values are used as multiplication is nothing but addition.\n",
        "\n",
        "Comparison can be performed by comparing log probabilities."
      ],
      "metadata": {
        "id": "kX9Oga9zCTgo"
      },
      "id": "kX9Oga9zCTgo"
    }
  ],
  "metadata": {
    "kernelspec": {
      "display_name": "Python 3 (ipykernel)",
      "language": "python",
      "name": "python3"
    },
    "language_info": {
      "codemirror_mode": {
        "name": "ipython",
        "version": 3
      },
      "file_extension": ".py",
      "mimetype": "text/x-python",
      "name": "python",
      "nbconvert_exporter": "python",
      "pygments_lexer": "ipython3",
      "version": "3.9.5"
    },
    "colab": {
      "name": "CS6120_NLP_Assignment_1_Notebook_May29.ipynb",
      "provenance": [],
      "collapsed_sections": []
    }
  },
  "nbformat": 4,
  "nbformat_minor": 5
}